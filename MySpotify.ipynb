{
 "cells": [
  {
   "cell_type": "markdown",
   "metadata": {},
   "source": [
    "# Import libraries"
   ]
  },
  {
   "cell_type": "code",
   "execution_count": 138,
   "metadata": {},
   "outputs": [
    {
     "name": "stderr",
     "output_type": "stream",
     "text": [
      "[nltk_data] Downloading package stopwords to\n",
      "[nltk_data]     /Users/daniel/nltk_data...\n",
      "[nltk_data]   Package stopwords is already up-to-date!\n"
     ]
    },
    {
     "data": {
      "text/plain": [
       "True"
      ]
     },
     "execution_count": 138,
     "metadata": {},
     "output_type": "execute_result"
    }
   ],
   "source": [
    "import numpy as np\n",
    "import pandas as pd\n",
    "\n",
    "from tqdm.auto import tqdm\n",
    "import nltk\n",
    "from nltk.corpus import stopwords\n",
    "import gensim\n",
    "import gensim.downloader as api\n",
    "\n",
    "import os\n",
    "\n",
    "tqdm.pandas()\n",
    "nltk.download('stopwords')"
   ]
  },
  {
   "cell_type": "markdown",
   "metadata": {},
   "source": [
    "# Global variables"
   ]
  },
  {
   "cell_type": "code",
   "execution_count": 74,
   "metadata": {},
   "outputs": [],
   "source": [
    "DATA_DIR = 'data'\n",
    "\n",
    "UNIQUE_TRACKS_DATA_FILE_NAME = 'p02_unique_tracks.txt'\n",
    "UNIQUE_TRACKS_DATA_FILE_PATH = os.path.join(DATA_DIR,\n",
    "                                            UNIQUE_TRACKS_DATA_FILE_NAME)\n",
    "\n",
    "\n",
    "TRIPLETS_DATA_FILE_NAME = 'train_triplets.txt'\n",
    "TRIPLETS_DATA_FILE_PATH = os.path.join(DATA_DIR,\n",
    "                                       TRIPLETS_DATA_FILE_NAME)\n",
    "\n",
    "\n",
    "MSD_TAGTRAUM_FILE_NAME = 'p02_msd_tagtraum_cd2.cls'\n",
    "MSD_TAGTRAUM_FILE_PATH = os.path.join(DATA_DIR,\n",
    "                                      MSD_TAGTRAUM_FILE_NAME)\n",
    "\n",
    "\n",
    "MXM_FILE_NAME = 'mxm_dataset_train.txt'\n",
    "MXM_FILE_PATH = os.path.join(DATA_DIR,\n",
    "                             MXM_FILE_NAME)"
   ]
  },
  {
   "cell_type": "markdown",
   "metadata": {},
   "source": [
    "# Top-250 tracks"
   ]
  },
  {
   "cell_type": "markdown",
   "metadata": {},
   "source": [
    "It should return a dataframe with the following fields: index number, artist name, track title, play count. The table should be sorted by\n",
    "the play count descendingly."
   ]
  },
  {
   "cell_type": "code",
   "execution_count": 3,
   "metadata": {},
   "outputs": [
    {
     "data": {
      "text/html": [
       "<div>\n",
       "<style scoped>\n",
       "    .dataframe tbody tr th:only-of-type {\n",
       "        vertical-align: middle;\n",
       "    }\n",
       "\n",
       "    .dataframe tbody tr th {\n",
       "        vertical-align: top;\n",
       "    }\n",
       "\n",
       "    .dataframe thead th {\n",
       "        text-align: right;\n",
       "    }\n",
       "</style>\n",
       "<table border=\"1\" class=\"dataframe\">\n",
       "  <thead>\n",
       "    <tr style=\"text-align: right;\">\n",
       "      <th></th>\n",
       "      <th>track_id</th>\n",
       "      <th>song_id</th>\n",
       "      <th>artist</th>\n",
       "      <th>title</th>\n",
       "    </tr>\n",
       "  </thead>\n",
       "  <tbody>\n",
       "    <tr>\n",
       "      <th>0</th>\n",
       "      <td>TRMMMYQ128F932D901</td>\n",
       "      <td>SOQMMHC12AB0180CB8</td>\n",
       "      <td>Faster Pussy cat</td>\n",
       "      <td>Silent Night</td>\n",
       "    </tr>\n",
       "    <tr>\n",
       "      <th>1</th>\n",
       "      <td>TRMMMKD128F425225D</td>\n",
       "      <td>SOVFVAK12A8C1350D9</td>\n",
       "      <td>Karkkiautomaatti</td>\n",
       "      <td>Tanssi vaan</td>\n",
       "    </tr>\n",
       "    <tr>\n",
       "      <th>2</th>\n",
       "      <td>TRMMMRX128F93187D9</td>\n",
       "      <td>SOGTUKN12AB017F4F1</td>\n",
       "      <td>Hudson Mohawke</td>\n",
       "      <td>No One Could Ever</td>\n",
       "    </tr>\n",
       "    <tr>\n",
       "      <th>3</th>\n",
       "      <td>TRMMMCH128F425532C</td>\n",
       "      <td>SOBNYVR12A8C13558C</td>\n",
       "      <td>Yerba Brava</td>\n",
       "      <td>Si Vos Querés</td>\n",
       "    </tr>\n",
       "    <tr>\n",
       "      <th>4</th>\n",
       "      <td>TRMMMWA128F426B589</td>\n",
       "      <td>SOHSBXH12A8C13B0DF</td>\n",
       "      <td>Der Mystic</td>\n",
       "      <td>Tangle Of Aspens</td>\n",
       "    </tr>\n",
       "  </tbody>\n",
       "</table>\n",
       "</div>"
      ],
      "text/plain": [
       "             track_id             song_id            artist              title\n",
       "0  TRMMMYQ128F932D901  SOQMMHC12AB0180CB8  Faster Pussy cat       Silent Night\n",
       "1  TRMMMKD128F425225D  SOVFVAK12A8C1350D9  Karkkiautomaatti        Tanssi vaan\n",
       "2  TRMMMRX128F93187D9  SOGTUKN12AB017F4F1    Hudson Mohawke  No One Could Ever\n",
       "3  TRMMMCH128F425532C  SOBNYVR12A8C13558C       Yerba Brava      Si Vos Querés\n",
       "4  TRMMMWA128F426B589  SOHSBXH12A8C13B0DF        Der Mystic   Tangle Of Aspens"
      ]
     },
     "execution_count": 3,
     "metadata": {},
     "output_type": "execute_result"
    }
   ],
   "source": [
    "unique_tracks = pd.read_csv(UNIQUE_TRACKS_DATA_FILE_PATH,\n",
    "                            sep='<SEP>',\n",
    "                            names=('track_id', 'song_id', 'artist', 'title'),\n",
    "                            engine='python')\n",
    "unique_tracks.head()"
   ]
  },
  {
   "cell_type": "code",
   "execution_count": 4,
   "metadata": {},
   "outputs": [
    {
     "data": {
      "text/plain": [
       "(1000000, 4)"
      ]
     },
     "execution_count": 4,
     "metadata": {},
     "output_type": "execute_result"
    }
   ],
   "source": [
    "unique_tracks.shape"
   ]
  },
  {
   "cell_type": "code",
   "execution_count": 5,
   "metadata": {},
   "outputs": [
    {
     "data": {
      "text/html": [
       "<div>\n",
       "<style scoped>\n",
       "    .dataframe tbody tr th:only-of-type {\n",
       "        vertical-align: middle;\n",
       "    }\n",
       "\n",
       "    .dataframe tbody tr th {\n",
       "        vertical-align: top;\n",
       "    }\n",
       "\n",
       "    .dataframe thead th {\n",
       "        text-align: right;\n",
       "    }\n",
       "</style>\n",
       "<table border=\"1\" class=\"dataframe\">\n",
       "  <thead>\n",
       "    <tr style=\"text-align: right;\">\n",
       "      <th></th>\n",
       "      <th>user_id</th>\n",
       "      <th>song_id</th>\n",
       "      <th>play_count</th>\n",
       "    </tr>\n",
       "  </thead>\n",
       "  <tbody>\n",
       "    <tr>\n",
       "      <th>0</th>\n",
       "      <td>b80344d063b5ccb3212f76538f3d9e43d87dca9e</td>\n",
       "      <td>SOAKIMP12A8C130995</td>\n",
       "      <td>1</td>\n",
       "    </tr>\n",
       "    <tr>\n",
       "      <th>1</th>\n",
       "      <td>b80344d063b5ccb3212f76538f3d9e43d87dca9e</td>\n",
       "      <td>SOAPDEY12A81C210A9</td>\n",
       "      <td>1</td>\n",
       "    </tr>\n",
       "    <tr>\n",
       "      <th>2</th>\n",
       "      <td>b80344d063b5ccb3212f76538f3d9e43d87dca9e</td>\n",
       "      <td>SOBBMDR12A8C13253B</td>\n",
       "      <td>2</td>\n",
       "    </tr>\n",
       "    <tr>\n",
       "      <th>3</th>\n",
       "      <td>b80344d063b5ccb3212f76538f3d9e43d87dca9e</td>\n",
       "      <td>SOBFNSP12AF72A0E22</td>\n",
       "      <td>1</td>\n",
       "    </tr>\n",
       "    <tr>\n",
       "      <th>4</th>\n",
       "      <td>b80344d063b5ccb3212f76538f3d9e43d87dca9e</td>\n",
       "      <td>SOBFOVM12A58A7D494</td>\n",
       "      <td>1</td>\n",
       "    </tr>\n",
       "  </tbody>\n",
       "</table>\n",
       "</div>"
      ],
      "text/plain": [
       "                                    user_id             song_id  play_count\n",
       "0  b80344d063b5ccb3212f76538f3d9e43d87dca9e  SOAKIMP12A8C130995           1\n",
       "1  b80344d063b5ccb3212f76538f3d9e43d87dca9e  SOAPDEY12A81C210A9           1\n",
       "2  b80344d063b5ccb3212f76538f3d9e43d87dca9e  SOBBMDR12A8C13253B           2\n",
       "3  b80344d063b5ccb3212f76538f3d9e43d87dca9e  SOBFNSP12AF72A0E22           1\n",
       "4  b80344d063b5ccb3212f76538f3d9e43d87dca9e  SOBFOVM12A58A7D494           1"
      ]
     },
     "execution_count": 5,
     "metadata": {},
     "output_type": "execute_result"
    }
   ],
   "source": [
    "triplets = pd.read_csv(TRIPLETS_DATA_FILE_PATH,\n",
    "                       sep='\\t',\n",
    "                       names=('user_id', 'song_id', 'play_count'),\n",
    "                       engine='python')\n",
    "triplets.head()"
   ]
  },
  {
   "cell_type": "code",
   "execution_count": 6,
   "metadata": {},
   "outputs": [
    {
     "data": {
      "text/plain": [
       "(48373586, 3)"
      ]
     },
     "execution_count": 6,
     "metadata": {},
     "output_type": "execute_result"
    }
   ],
   "source": [
    "triplets.shape"
   ]
  },
  {
   "cell_type": "code",
   "execution_count": 15,
   "metadata": {},
   "outputs": [],
   "source": [
    "songs_play_count = triplets.groupby(by=['song_id'])['play_count'].sum()"
   ]
  },
  {
   "cell_type": "code",
   "execution_count": 17,
   "metadata": {},
   "outputs": [
    {
     "data": {
      "text/html": [
       "<div>\n",
       "<style scoped>\n",
       "    .dataframe tbody tr th:only-of-type {\n",
       "        vertical-align: middle;\n",
       "    }\n",
       "\n",
       "    .dataframe tbody tr th {\n",
       "        vertical-align: top;\n",
       "    }\n",
       "\n",
       "    .dataframe thead th {\n",
       "        text-align: right;\n",
       "    }\n",
       "</style>\n",
       "<table border=\"1\" class=\"dataframe\">\n",
       "  <thead>\n",
       "    <tr style=\"text-align: right;\">\n",
       "      <th></th>\n",
       "      <th>song_id</th>\n",
       "      <th>play_count</th>\n",
       "    </tr>\n",
       "  </thead>\n",
       "  <tbody>\n",
       "    <tr>\n",
       "      <th>0</th>\n",
       "      <td>SOAAADD12AB018A9DD</td>\n",
       "      <td>24</td>\n",
       "    </tr>\n",
       "    <tr>\n",
       "      <th>1</th>\n",
       "      <td>SOAAADE12A6D4F80CC</td>\n",
       "      <td>12</td>\n",
       "    </tr>\n",
       "    <tr>\n",
       "      <th>2</th>\n",
       "      <td>SOAAADF12A8C13DF62</td>\n",
       "      <td>9</td>\n",
       "    </tr>\n",
       "    <tr>\n",
       "      <th>3</th>\n",
       "      <td>SOAAADZ12A8C1334FB</td>\n",
       "      <td>12</td>\n",
       "    </tr>\n",
       "    <tr>\n",
       "      <th>4</th>\n",
       "      <td>SOAAAFI12A6D4F9C66</td>\n",
       "      <td>188</td>\n",
       "    </tr>\n",
       "  </tbody>\n",
       "</table>\n",
       "</div>"
      ],
      "text/plain": [
       "              song_id  play_count\n",
       "0  SOAAADD12AB018A9DD          24\n",
       "1  SOAAADE12A6D4F80CC          12\n",
       "2  SOAAADF12A8C13DF62           9\n",
       "3  SOAAADZ12A8C1334FB          12\n",
       "4  SOAAAFI12A6D4F9C66         188"
      ]
     },
     "execution_count": 17,
     "metadata": {},
     "output_type": "execute_result"
    }
   ],
   "source": [
    "songs_play_count = songs_play_count.reset_index()\n",
    "songs_play_count.head()"
   ]
  },
  {
   "cell_type": "code",
   "execution_count": 18,
   "metadata": {},
   "outputs": [],
   "source": [
    "top_250_tracks = songs_play_count.sort_values(by=['play_count'], ascending=False).head(250)"
   ]
  },
  {
   "cell_type": "code",
   "execution_count": 19,
   "metadata": {},
   "outputs": [
    {
     "data": {
      "text/html": [
       "<div>\n",
       "<style scoped>\n",
       "    .dataframe tbody tr th:only-of-type {\n",
       "        vertical-align: middle;\n",
       "    }\n",
       "\n",
       "    .dataframe tbody tr th {\n",
       "        vertical-align: top;\n",
       "    }\n",
       "\n",
       "    .dataframe thead th {\n",
       "        text-align: right;\n",
       "    }\n",
       "</style>\n",
       "<table border=\"1\" class=\"dataframe\">\n",
       "  <thead>\n",
       "    <tr style=\"text-align: right;\">\n",
       "      <th></th>\n",
       "      <th>song_id</th>\n",
       "      <th>play_count</th>\n",
       "    </tr>\n",
       "  </thead>\n",
       "  <tbody>\n",
       "    <tr>\n",
       "      <th>0</th>\n",
       "      <td>SOBONKR12A58A7A7E0</td>\n",
       "      <td>726885</td>\n",
       "    </tr>\n",
       "    <tr>\n",
       "      <th>1</th>\n",
       "      <td>SOAUWYT12A81C206F1</td>\n",
       "      <td>648239</td>\n",
       "    </tr>\n",
       "    <tr>\n",
       "      <th>2</th>\n",
       "      <td>SOSXLTC12AF72A7F54</td>\n",
       "      <td>527893</td>\n",
       "    </tr>\n",
       "    <tr>\n",
       "      <th>3</th>\n",
       "      <td>SOFRQTD12A81C233C0</td>\n",
       "      <td>425463</td>\n",
       "    </tr>\n",
       "    <tr>\n",
       "      <th>4</th>\n",
       "      <td>SOEGIYH12A6D4FC0E3</td>\n",
       "      <td>389880</td>\n",
       "    </tr>\n",
       "  </tbody>\n",
       "</table>\n",
       "</div>"
      ],
      "text/plain": [
       "              song_id  play_count\n",
       "0  SOBONKR12A58A7A7E0      726885\n",
       "1  SOAUWYT12A81C206F1      648239\n",
       "2  SOSXLTC12AF72A7F54      527893\n",
       "3  SOFRQTD12A81C233C0      425463\n",
       "4  SOEGIYH12A6D4FC0E3      389880"
      ]
     },
     "execution_count": 19,
     "metadata": {},
     "output_type": "execute_result"
    }
   ],
   "source": [
    "top_250_tracks = top_250_tracks.reset_index(drop=True)\n",
    "top_250_tracks.head()"
   ]
  },
  {
   "cell_type": "code",
   "execution_count": 20,
   "metadata": {},
   "outputs": [
    {
     "data": {
      "application/vnd.jupyter.widget-view+json": {
       "model_id": "bd588878cc58465cb1a1cc23b43c50bb",
       "version_major": 2,
       "version_minor": 0
      },
      "text/plain": [
       "  0%|          | 0/250 [00:00<?, ?it/s]"
      ]
     },
     "metadata": {},
     "output_type": "display_data"
    }
   ],
   "source": [
    "artists = [unique_tracks[unique_tracks['song_id'] == track[0]]['artist'].values[0]\n",
    "           for track in tqdm(top_250_tracks.values)]"
   ]
  },
  {
   "cell_type": "code",
   "execution_count": 21,
   "metadata": {},
   "outputs": [
    {
     "data": {
      "text/plain": [
       "['Dwight Yoakam',\n",
       " 'Björk',\n",
       " 'Kings Of Leon',\n",
       " 'Harmonia',\n",
       " 'Barry Tuckwell/Academy of St Martin-in-the-Fields/Sir Neville Marriner']"
      ]
     },
     "execution_count": 21,
     "metadata": {},
     "output_type": "execute_result"
    }
   ],
   "source": [
    "artists[:5]"
   ]
  },
  {
   "cell_type": "code",
   "execution_count": 22,
   "metadata": {},
   "outputs": [
    {
     "data": {
      "application/vnd.jupyter.widget-view+json": {
       "model_id": "c0c64e5f9cbb47aa9de3e6b53afeb268",
       "version_major": 2,
       "version_minor": 0
      },
      "text/plain": [
       "  0%|          | 0/250 [00:00<?, ?it/s]"
      ]
     },
     "metadata": {},
     "output_type": "display_data"
    }
   ],
   "source": [
    "titles = [unique_tracks[unique_tracks['song_id'] == track[0]]['title'].values[0]\n",
    "           for track in tqdm(top_250_tracks.values)]"
   ]
  },
  {
   "cell_type": "code",
   "execution_count": 23,
   "metadata": {},
   "outputs": [
    {
     "data": {
      "text/plain": [
       "[\"You're The One\",\n",
       " 'Undo',\n",
       " 'Revelry',\n",
       " 'Sehr kosmisch',\n",
       " 'Horn Concerto No. 4 in E flat K495: II. Romance (Andante cantabile)']"
      ]
     },
     "execution_count": 23,
     "metadata": {},
     "output_type": "execute_result"
    }
   ],
   "source": [
    "titles[:5]"
   ]
  },
  {
   "cell_type": "code",
   "execution_count": 24,
   "metadata": {},
   "outputs": [],
   "source": [
    "top_250_tracks['artist'] = artists\n",
    "top_250_tracks['title'] = titles\n",
    "top_250_tracks['id'] = [i for i in range(top_250_tracks.shape[0])]"
   ]
  },
  {
   "cell_type": "code",
   "execution_count": 25,
   "metadata": {},
   "outputs": [
    {
     "data": {
      "text/html": [
       "<div>\n",
       "<style scoped>\n",
       "    .dataframe tbody tr th:only-of-type {\n",
       "        vertical-align: middle;\n",
       "    }\n",
       "\n",
       "    .dataframe tbody tr th {\n",
       "        vertical-align: top;\n",
       "    }\n",
       "\n",
       "    .dataframe thead th {\n",
       "        text-align: right;\n",
       "    }\n",
       "</style>\n",
       "<table border=\"1\" class=\"dataframe\">\n",
       "  <thead>\n",
       "    <tr style=\"text-align: right;\">\n",
       "      <th></th>\n",
       "      <th>song_id</th>\n",
       "      <th>play_count</th>\n",
       "      <th>artist</th>\n",
       "      <th>title</th>\n",
       "      <th>id</th>\n",
       "    </tr>\n",
       "  </thead>\n",
       "  <tbody>\n",
       "    <tr>\n",
       "      <th>0</th>\n",
       "      <td>SOBONKR12A58A7A7E0</td>\n",
       "      <td>726885</td>\n",
       "      <td>Dwight Yoakam</td>\n",
       "      <td>You're The One</td>\n",
       "      <td>0</td>\n",
       "    </tr>\n",
       "    <tr>\n",
       "      <th>1</th>\n",
       "      <td>SOAUWYT12A81C206F1</td>\n",
       "      <td>648239</td>\n",
       "      <td>Björk</td>\n",
       "      <td>Undo</td>\n",
       "      <td>1</td>\n",
       "    </tr>\n",
       "    <tr>\n",
       "      <th>2</th>\n",
       "      <td>SOSXLTC12AF72A7F54</td>\n",
       "      <td>527893</td>\n",
       "      <td>Kings Of Leon</td>\n",
       "      <td>Revelry</td>\n",
       "      <td>2</td>\n",
       "    </tr>\n",
       "    <tr>\n",
       "      <th>3</th>\n",
       "      <td>SOFRQTD12A81C233C0</td>\n",
       "      <td>425463</td>\n",
       "      <td>Harmonia</td>\n",
       "      <td>Sehr kosmisch</td>\n",
       "      <td>3</td>\n",
       "    </tr>\n",
       "    <tr>\n",
       "      <th>4</th>\n",
       "      <td>SOEGIYH12A6D4FC0E3</td>\n",
       "      <td>389880</td>\n",
       "      <td>Barry Tuckwell/Academy of St Martin-in-the-Fie...</td>\n",
       "      <td>Horn Concerto No. 4 in E flat K495: II. Romanc...</td>\n",
       "      <td>4</td>\n",
       "    </tr>\n",
       "  </tbody>\n",
       "</table>\n",
       "</div>"
      ],
      "text/plain": [
       "              song_id  play_count  \\\n",
       "0  SOBONKR12A58A7A7E0      726885   \n",
       "1  SOAUWYT12A81C206F1      648239   \n",
       "2  SOSXLTC12AF72A7F54      527893   \n",
       "3  SOFRQTD12A81C233C0      425463   \n",
       "4  SOEGIYH12A6D4FC0E3      389880   \n",
       "\n",
       "                                              artist  \\\n",
       "0                                      Dwight Yoakam   \n",
       "1                                              Björk   \n",
       "2                                      Kings Of Leon   \n",
       "3                                           Harmonia   \n",
       "4  Barry Tuckwell/Academy of St Martin-in-the-Fie...   \n",
       "\n",
       "                                               title  id  \n",
       "0                                     You're The One   0  \n",
       "1                                               Undo   1  \n",
       "2                                            Revelry   2  \n",
       "3                                      Sehr kosmisch   3  \n",
       "4  Horn Concerto No. 4 in E flat K495: II. Romanc...   4  "
      ]
     },
     "execution_count": 25,
     "metadata": {},
     "output_type": "execute_result"
    }
   ],
   "source": [
    "top_250_tracks.head()"
   ]
  },
  {
   "cell_type": "code",
   "execution_count": 27,
   "metadata": {},
   "outputs": [],
   "source": [
    "cols_order = ['id', 'artist', 'title', 'play_count']\n",
    "top_250_tracks = top_250_tracks[cols_order]"
   ]
  },
  {
   "cell_type": "code",
   "execution_count": 28,
   "metadata": {},
   "outputs": [
    {
     "data": {
      "text/html": [
       "<div>\n",
       "<style scoped>\n",
       "    .dataframe tbody tr th:only-of-type {\n",
       "        vertical-align: middle;\n",
       "    }\n",
       "\n",
       "    .dataframe tbody tr th {\n",
       "        vertical-align: top;\n",
       "    }\n",
       "\n",
       "    .dataframe thead th {\n",
       "        text-align: right;\n",
       "    }\n",
       "</style>\n",
       "<table border=\"1\" class=\"dataframe\">\n",
       "  <thead>\n",
       "    <tr style=\"text-align: right;\">\n",
       "      <th></th>\n",
       "      <th>id</th>\n",
       "      <th>artist</th>\n",
       "      <th>title</th>\n",
       "      <th>play_count</th>\n",
       "    </tr>\n",
       "  </thead>\n",
       "  <tbody>\n",
       "    <tr>\n",
       "      <th>0</th>\n",
       "      <td>0</td>\n",
       "      <td>Dwight Yoakam</td>\n",
       "      <td>You're The One</td>\n",
       "      <td>726885</td>\n",
       "    </tr>\n",
       "    <tr>\n",
       "      <th>1</th>\n",
       "      <td>1</td>\n",
       "      <td>Björk</td>\n",
       "      <td>Undo</td>\n",
       "      <td>648239</td>\n",
       "    </tr>\n",
       "    <tr>\n",
       "      <th>2</th>\n",
       "      <td>2</td>\n",
       "      <td>Kings Of Leon</td>\n",
       "      <td>Revelry</td>\n",
       "      <td>527893</td>\n",
       "    </tr>\n",
       "    <tr>\n",
       "      <th>3</th>\n",
       "      <td>3</td>\n",
       "      <td>Harmonia</td>\n",
       "      <td>Sehr kosmisch</td>\n",
       "      <td>425463</td>\n",
       "    </tr>\n",
       "    <tr>\n",
       "      <th>4</th>\n",
       "      <td>4</td>\n",
       "      <td>Barry Tuckwell/Academy of St Martin-in-the-Fie...</td>\n",
       "      <td>Horn Concerto No. 4 in E flat K495: II. Romanc...</td>\n",
       "      <td>389880</td>\n",
       "    </tr>\n",
       "  </tbody>\n",
       "</table>\n",
       "</div>"
      ],
      "text/plain": [
       "   id                                             artist  \\\n",
       "0   0                                      Dwight Yoakam   \n",
       "1   1                                              Björk   \n",
       "2   2                                      Kings Of Leon   \n",
       "3   3                                           Harmonia   \n",
       "4   4  Barry Tuckwell/Academy of St Martin-in-the-Fie...   \n",
       "\n",
       "                                               title  play_count  \n",
       "0                                     You're The One      726885  \n",
       "1                                               Undo      648239  \n",
       "2                                            Revelry      527893  \n",
       "3                                      Sehr kosmisch      425463  \n",
       "4  Horn Concerto No. 4 in E flat K495: II. Romanc...      389880  "
      ]
     },
     "execution_count": 28,
     "metadata": {},
     "output_type": "execute_result"
    }
   ],
   "source": [
    "top_250_tracks.head()"
   ]
  },
  {
   "cell_type": "code",
   "execution_count": 29,
   "metadata": {},
   "outputs": [],
   "source": [
    "top_250_tracks.to_csv('top_250_tracks.csv', index=False)"
   ]
  },
  {
   "cell_type": "markdown",
   "metadata": {},
   "source": [
    "# Top-100 tracks by genre"
   ]
  },
  {
   "cell_type": "markdown",
   "metadata": {},
   "source": [
    "It should return on a given genre a dataframe with the following fields: index number, artist name, track title, play count. The table should be sorted by the play count descendingly. You should only use the major genre to perform the subtask."
   ]
  },
  {
   "cell_type": "code",
   "execution_count": 61,
   "metadata": {},
   "outputs": [],
   "source": [
    "genres = pd.read_csv(MSD_TAGTRAUM_FILE_PATH,\n",
    "                     sep='\\t',\n",
    "                     names=('track_id', 'majority-genre', 'minority-genre'),\n",
    "                     comment='#')"
   ]
  },
  {
   "cell_type": "code",
   "execution_count": 62,
   "metadata": {},
   "outputs": [
    {
     "data": {
      "text/html": [
       "<div>\n",
       "<style scoped>\n",
       "    .dataframe tbody tr th:only-of-type {\n",
       "        vertical-align: middle;\n",
       "    }\n",
       "\n",
       "    .dataframe tbody tr th {\n",
       "        vertical-align: top;\n",
       "    }\n",
       "\n",
       "    .dataframe thead th {\n",
       "        text-align: right;\n",
       "    }\n",
       "</style>\n",
       "<table border=\"1\" class=\"dataframe\">\n",
       "  <thead>\n",
       "    <tr style=\"text-align: right;\">\n",
       "      <th></th>\n",
       "      <th>track_id</th>\n",
       "      <th>majority-genre</th>\n",
       "      <th>minority-genre</th>\n",
       "    </tr>\n",
       "  </thead>\n",
       "  <tbody>\n",
       "    <tr>\n",
       "      <th>0</th>\n",
       "      <td>TRAAAAK128F9318786</td>\n",
       "      <td>Rock</td>\n",
       "      <td>NaN</td>\n",
       "    </tr>\n",
       "    <tr>\n",
       "      <th>1</th>\n",
       "      <td>TRAAAAW128F429D538</td>\n",
       "      <td>Rap</td>\n",
       "      <td>NaN</td>\n",
       "    </tr>\n",
       "    <tr>\n",
       "      <th>2</th>\n",
       "      <td>TRAAABD128F429CF47</td>\n",
       "      <td>Rock</td>\n",
       "      <td>RnB</td>\n",
       "    </tr>\n",
       "    <tr>\n",
       "      <th>3</th>\n",
       "      <td>TRAAADJ128F4287B47</td>\n",
       "      <td>Rock</td>\n",
       "      <td>NaN</td>\n",
       "    </tr>\n",
       "    <tr>\n",
       "      <th>4</th>\n",
       "      <td>TRAAADZ128F9348C2E</td>\n",
       "      <td>Latin</td>\n",
       "      <td>NaN</td>\n",
       "    </tr>\n",
       "  </tbody>\n",
       "</table>\n",
       "</div>"
      ],
      "text/plain": [
       "             track_id majority-genre minority-genre\n",
       "0  TRAAAAK128F9318786           Rock            NaN\n",
       "1  TRAAAAW128F429D538            Rap            NaN\n",
       "2  TRAAABD128F429CF47           Rock            RnB\n",
       "3  TRAAADJ128F4287B47           Rock            NaN\n",
       "4  TRAAADZ128F9348C2E          Latin            NaN"
      ]
     },
     "execution_count": 62,
     "metadata": {},
     "output_type": "execute_result"
    }
   ],
   "source": [
    "genres.head()"
   ]
  },
  {
   "cell_type": "code",
   "execution_count": 63,
   "metadata": {},
   "outputs": [],
   "source": [
    "genres_tracks = pd.merge(genres, unique_tracks)"
   ]
  },
  {
   "cell_type": "code",
   "execution_count": 64,
   "metadata": {},
   "outputs": [
    {
     "data": {
      "text/html": [
       "<div>\n",
       "<style scoped>\n",
       "    .dataframe tbody tr th:only-of-type {\n",
       "        vertical-align: middle;\n",
       "    }\n",
       "\n",
       "    .dataframe tbody tr th {\n",
       "        vertical-align: top;\n",
       "    }\n",
       "\n",
       "    .dataframe thead th {\n",
       "        text-align: right;\n",
       "    }\n",
       "</style>\n",
       "<table border=\"1\" class=\"dataframe\">\n",
       "  <thead>\n",
       "    <tr style=\"text-align: right;\">\n",
       "      <th></th>\n",
       "      <th>track_id</th>\n",
       "      <th>majority-genre</th>\n",
       "      <th>minority-genre</th>\n",
       "      <th>song_id</th>\n",
       "      <th>artist</th>\n",
       "      <th>title</th>\n",
       "    </tr>\n",
       "  </thead>\n",
       "  <tbody>\n",
       "    <tr>\n",
       "      <th>0</th>\n",
       "      <td>TRAAAAK128F9318786</td>\n",
       "      <td>Rock</td>\n",
       "      <td>NaN</td>\n",
       "      <td>SOBLFFE12AF72AA5BA</td>\n",
       "      <td>Adelitas Way</td>\n",
       "      <td>Scream</td>\n",
       "    </tr>\n",
       "    <tr>\n",
       "      <th>1</th>\n",
       "      <td>TRAAAAW128F429D538</td>\n",
       "      <td>Rap</td>\n",
       "      <td>NaN</td>\n",
       "      <td>SOMZWCG12A8C13C480</td>\n",
       "      <td>Casual</td>\n",
       "      <td>I Didn't Mean To</td>\n",
       "    </tr>\n",
       "    <tr>\n",
       "      <th>2</th>\n",
       "      <td>TRAAABD128F429CF47</td>\n",
       "      <td>Rock</td>\n",
       "      <td>RnB</td>\n",
       "      <td>SOCIWDW12A8C13D406</td>\n",
       "      <td>The Box Tops</td>\n",
       "      <td>Soul Deep</td>\n",
       "    </tr>\n",
       "    <tr>\n",
       "      <th>3</th>\n",
       "      <td>TRAAADJ128F4287B47</td>\n",
       "      <td>Rock</td>\n",
       "      <td>NaN</td>\n",
       "      <td>SOCSNVI12A8C13ECC2</td>\n",
       "      <td>Big Brother &amp; The Holding Company</td>\n",
       "      <td>Heartache People</td>\n",
       "    </tr>\n",
       "    <tr>\n",
       "      <th>4</th>\n",
       "      <td>TRAAADZ128F9348C2E</td>\n",
       "      <td>Latin</td>\n",
       "      <td>NaN</td>\n",
       "      <td>SOXVLOJ12AB0189215</td>\n",
       "      <td>Sonora Santanera</td>\n",
       "      <td>Amor De Cabaret</td>\n",
       "    </tr>\n",
       "  </tbody>\n",
       "</table>\n",
       "</div>"
      ],
      "text/plain": [
       "             track_id majority-genre minority-genre             song_id  \\\n",
       "0  TRAAAAK128F9318786           Rock            NaN  SOBLFFE12AF72AA5BA   \n",
       "1  TRAAAAW128F429D538            Rap            NaN  SOMZWCG12A8C13C480   \n",
       "2  TRAAABD128F429CF47           Rock            RnB  SOCIWDW12A8C13D406   \n",
       "3  TRAAADJ128F4287B47           Rock            NaN  SOCSNVI12A8C13ECC2   \n",
       "4  TRAAADZ128F9348C2E          Latin            NaN  SOXVLOJ12AB0189215   \n",
       "\n",
       "                              artist             title  \n",
       "0                       Adelitas Way            Scream  \n",
       "1                             Casual  I Didn't Mean To  \n",
       "2                       The Box Tops         Soul Deep  \n",
       "3  Big Brother & The Holding Company  Heartache People  \n",
       "4                   Sonora Santanera   Amor De Cabaret  "
      ]
     },
     "execution_count": 64,
     "metadata": {},
     "output_type": "execute_result"
    }
   ],
   "source": [
    "genres_tracks.head()"
   ]
  },
  {
   "cell_type": "code",
   "execution_count": 65,
   "metadata": {},
   "outputs": [],
   "source": [
    "genres_tracks_play_count = pd.merge(genres_tracks, songs_play_count)"
   ]
  },
  {
   "cell_type": "code",
   "execution_count": 66,
   "metadata": {},
   "outputs": [
    {
     "data": {
      "text/html": [
       "<div>\n",
       "<style scoped>\n",
       "    .dataframe tbody tr th:only-of-type {\n",
       "        vertical-align: middle;\n",
       "    }\n",
       "\n",
       "    .dataframe tbody tr th {\n",
       "        vertical-align: top;\n",
       "    }\n",
       "\n",
       "    .dataframe thead th {\n",
       "        text-align: right;\n",
       "    }\n",
       "</style>\n",
       "<table border=\"1\" class=\"dataframe\">\n",
       "  <thead>\n",
       "    <tr style=\"text-align: right;\">\n",
       "      <th></th>\n",
       "      <th>track_id</th>\n",
       "      <th>majority-genre</th>\n",
       "      <th>minority-genre</th>\n",
       "      <th>song_id</th>\n",
       "      <th>artist</th>\n",
       "      <th>title</th>\n",
       "      <th>play_count</th>\n",
       "    </tr>\n",
       "  </thead>\n",
       "  <tbody>\n",
       "    <tr>\n",
       "      <th>0</th>\n",
       "      <td>TRAAAAK128F9318786</td>\n",
       "      <td>Rock</td>\n",
       "      <td>NaN</td>\n",
       "      <td>SOBLFFE12AF72AA5BA</td>\n",
       "      <td>Adelitas Way</td>\n",
       "      <td>Scream</td>\n",
       "      <td>515</td>\n",
       "    </tr>\n",
       "    <tr>\n",
       "      <th>1</th>\n",
       "      <td>TRAAABD128F429CF47</td>\n",
       "      <td>Rock</td>\n",
       "      <td>RnB</td>\n",
       "      <td>SOCIWDW12A8C13D406</td>\n",
       "      <td>The Box Tops</td>\n",
       "      <td>Soul Deep</td>\n",
       "      <td>72</td>\n",
       "    </tr>\n",
       "    <tr>\n",
       "      <th>2</th>\n",
       "      <td>TRAAAED128E0783FAB</td>\n",
       "      <td>Jazz</td>\n",
       "      <td>NaN</td>\n",
       "      <td>SOXZYWX12A6310ED0C</td>\n",
       "      <td>Jamie Cullum</td>\n",
       "      <td>It's About Time</td>\n",
       "      <td>315</td>\n",
       "    </tr>\n",
       "    <tr>\n",
       "      <th>3</th>\n",
       "      <td>TRAAAEM128F93347B9</td>\n",
       "      <td>Electronic</td>\n",
       "      <td>NaN</td>\n",
       "      <td>SOIGICF12A8C141BC5</td>\n",
       "      <td>Son Kite</td>\n",
       "      <td>Game &amp; Watch</td>\n",
       "      <td>14</td>\n",
       "    </tr>\n",
       "    <tr>\n",
       "      <th>4</th>\n",
       "      <td>TRAAAFD128F92F423A</td>\n",
       "      <td>Punk</td>\n",
       "      <td>Rock</td>\n",
       "      <td>SOFSOCN12A8C143F5D</td>\n",
       "      <td>Gob</td>\n",
       "      <td>Face the Ashes</td>\n",
       "      <td>70</td>\n",
       "    </tr>\n",
       "  </tbody>\n",
       "</table>\n",
       "</div>"
      ],
      "text/plain": [
       "             track_id majority-genre minority-genre             song_id  \\\n",
       "0  TRAAAAK128F9318786           Rock            NaN  SOBLFFE12AF72AA5BA   \n",
       "1  TRAAABD128F429CF47           Rock            RnB  SOCIWDW12A8C13D406   \n",
       "2  TRAAAED128E0783FAB           Jazz            NaN  SOXZYWX12A6310ED0C   \n",
       "3  TRAAAEM128F93347B9     Electronic            NaN  SOIGICF12A8C141BC5   \n",
       "4  TRAAAFD128F92F423A           Punk           Rock  SOFSOCN12A8C143F5D   \n",
       "\n",
       "         artist            title  play_count  \n",
       "0  Adelitas Way           Scream         515  \n",
       "1  The Box Tops        Soul Deep          72  \n",
       "2  Jamie Cullum  It's About Time         315  \n",
       "3      Son Kite     Game & Watch          14  \n",
       "4           Gob   Face the Ashes          70  "
      ]
     },
     "execution_count": 66,
     "metadata": {},
     "output_type": "execute_result"
    }
   ],
   "source": [
    "genres_tracks_play_count.head()"
   ]
  },
  {
   "cell_type": "code",
   "execution_count": 67,
   "metadata": {},
   "outputs": [],
   "source": [
    "genres_tracks_play_count = genres_tracks_play_count.drop(['minority-genre', 'track_id',\n",
    "                                                          'song_id'], axis=1)"
   ]
  },
  {
   "cell_type": "code",
   "execution_count": 68,
   "metadata": {},
   "outputs": [
    {
     "data": {
      "text/html": [
       "<div>\n",
       "<style scoped>\n",
       "    .dataframe tbody tr th:only-of-type {\n",
       "        vertical-align: middle;\n",
       "    }\n",
       "\n",
       "    .dataframe tbody tr th {\n",
       "        vertical-align: top;\n",
       "    }\n",
       "\n",
       "    .dataframe thead th {\n",
       "        text-align: right;\n",
       "    }\n",
       "</style>\n",
       "<table border=\"1\" class=\"dataframe\">\n",
       "  <thead>\n",
       "    <tr style=\"text-align: right;\">\n",
       "      <th></th>\n",
       "      <th>majority-genre</th>\n",
       "      <th>artist</th>\n",
       "      <th>title</th>\n",
       "      <th>play_count</th>\n",
       "    </tr>\n",
       "  </thead>\n",
       "  <tbody>\n",
       "    <tr>\n",
       "      <th>0</th>\n",
       "      <td>Rock</td>\n",
       "      <td>Adelitas Way</td>\n",
       "      <td>Scream</td>\n",
       "      <td>515</td>\n",
       "    </tr>\n",
       "    <tr>\n",
       "      <th>1</th>\n",
       "      <td>Rock</td>\n",
       "      <td>The Box Tops</td>\n",
       "      <td>Soul Deep</td>\n",
       "      <td>72</td>\n",
       "    </tr>\n",
       "    <tr>\n",
       "      <th>2</th>\n",
       "      <td>Jazz</td>\n",
       "      <td>Jamie Cullum</td>\n",
       "      <td>It's About Time</td>\n",
       "      <td>315</td>\n",
       "    </tr>\n",
       "    <tr>\n",
       "      <th>3</th>\n",
       "      <td>Electronic</td>\n",
       "      <td>Son Kite</td>\n",
       "      <td>Game &amp; Watch</td>\n",
       "      <td>14</td>\n",
       "    </tr>\n",
       "    <tr>\n",
       "      <th>4</th>\n",
       "      <td>Punk</td>\n",
       "      <td>Gob</td>\n",
       "      <td>Face the Ashes</td>\n",
       "      <td>70</td>\n",
       "    </tr>\n",
       "  </tbody>\n",
       "</table>\n",
       "</div>"
      ],
      "text/plain": [
       "  majority-genre        artist            title  play_count\n",
       "0           Rock  Adelitas Way           Scream         515\n",
       "1           Rock  The Box Tops        Soul Deep          72\n",
       "2           Jazz  Jamie Cullum  It's About Time         315\n",
       "3     Electronic      Son Kite     Game & Watch          14\n",
       "4           Punk           Gob   Face the Ashes          70"
      ]
     },
     "execution_count": 68,
     "metadata": {},
     "output_type": "execute_result"
    }
   ],
   "source": [
    "genres_tracks_play_count.head()"
   ]
  },
  {
   "cell_type": "code",
   "execution_count": 69,
   "metadata": {},
   "outputs": [
    {
     "data": {
      "text/html": [
       "<div>\n",
       "<style scoped>\n",
       "    .dataframe tbody tr th:only-of-type {\n",
       "        vertical-align: middle;\n",
       "    }\n",
       "\n",
       "    .dataframe tbody tr th {\n",
       "        vertical-align: top;\n",
       "    }\n",
       "\n",
       "    .dataframe thead th {\n",
       "        text-align: right;\n",
       "    }\n",
       "</style>\n",
       "<table border=\"1\" class=\"dataframe\">\n",
       "  <thead>\n",
       "    <tr style=\"text-align: right;\">\n",
       "      <th></th>\n",
       "      <th>majority-genre</th>\n",
       "      <th>artist</th>\n",
       "      <th>title</th>\n",
       "      <th>play_count</th>\n",
       "    </tr>\n",
       "  </thead>\n",
       "  <tbody>\n",
       "    <tr>\n",
       "      <th>0</th>\n",
       "      <td>Rock</td>\n",
       "      <td>Adelitas Way</td>\n",
       "      <td>Scream</td>\n",
       "      <td>515</td>\n",
       "    </tr>\n",
       "    <tr>\n",
       "      <th>1</th>\n",
       "      <td>Rock</td>\n",
       "      <td>The Box Tops</td>\n",
       "      <td>Soul Deep</td>\n",
       "      <td>72</td>\n",
       "    </tr>\n",
       "    <tr>\n",
       "      <th>2</th>\n",
       "      <td>Jazz</td>\n",
       "      <td>Jamie Cullum</td>\n",
       "      <td>It's About Time</td>\n",
       "      <td>315</td>\n",
       "    </tr>\n",
       "    <tr>\n",
       "      <th>3</th>\n",
       "      <td>Electronic</td>\n",
       "      <td>Son Kite</td>\n",
       "      <td>Game &amp; Watch</td>\n",
       "      <td>14</td>\n",
       "    </tr>\n",
       "    <tr>\n",
       "      <th>4</th>\n",
       "      <td>Punk</td>\n",
       "      <td>Gob</td>\n",
       "      <td>Face the Ashes</td>\n",
       "      <td>70</td>\n",
       "    </tr>\n",
       "  </tbody>\n",
       "</table>\n",
       "</div>"
      ],
      "text/plain": [
       "  majority-genre        artist            title  play_count\n",
       "0           Rock  Adelitas Way           Scream         515\n",
       "1           Rock  The Box Tops        Soul Deep          72\n",
       "2           Jazz  Jamie Cullum  It's About Time         315\n",
       "3     Electronic      Son Kite     Game & Watch          14\n",
       "4           Punk           Gob   Face the Ashes          70"
      ]
     },
     "execution_count": 69,
     "metadata": {},
     "output_type": "execute_result"
    }
   ],
   "source": [
    "genres_tracks_play_count.head()"
   ]
  },
  {
   "cell_type": "code",
   "execution_count": 70,
   "metadata": {},
   "outputs": [],
   "source": [
    "cols_order = ['artist', 'title', 'play_count', 'majority-genre']\n",
    "genres_tracks_play_count = genres_tracks_play_count[cols_order]"
   ]
  },
  {
   "cell_type": "code",
   "execution_count": 71,
   "metadata": {},
   "outputs": [
    {
     "data": {
      "text/html": [
       "<div>\n",
       "<style scoped>\n",
       "    .dataframe tbody tr th:only-of-type {\n",
       "        vertical-align: middle;\n",
       "    }\n",
       "\n",
       "    .dataframe tbody tr th {\n",
       "        vertical-align: top;\n",
       "    }\n",
       "\n",
       "    .dataframe thead th {\n",
       "        text-align: right;\n",
       "    }\n",
       "</style>\n",
       "<table border=\"1\" class=\"dataframe\">\n",
       "  <thead>\n",
       "    <tr style=\"text-align: right;\">\n",
       "      <th></th>\n",
       "      <th>artist</th>\n",
       "      <th>title</th>\n",
       "      <th>play_count</th>\n",
       "      <th>majority-genre</th>\n",
       "    </tr>\n",
       "  </thead>\n",
       "  <tbody>\n",
       "    <tr>\n",
       "      <th>0</th>\n",
       "      <td>Adelitas Way</td>\n",
       "      <td>Scream</td>\n",
       "      <td>515</td>\n",
       "      <td>Rock</td>\n",
       "    </tr>\n",
       "    <tr>\n",
       "      <th>1</th>\n",
       "      <td>The Box Tops</td>\n",
       "      <td>Soul Deep</td>\n",
       "      <td>72</td>\n",
       "      <td>Rock</td>\n",
       "    </tr>\n",
       "    <tr>\n",
       "      <th>2</th>\n",
       "      <td>Jamie Cullum</td>\n",
       "      <td>It's About Time</td>\n",
       "      <td>315</td>\n",
       "      <td>Jazz</td>\n",
       "    </tr>\n",
       "    <tr>\n",
       "      <th>3</th>\n",
       "      <td>Son Kite</td>\n",
       "      <td>Game &amp; Watch</td>\n",
       "      <td>14</td>\n",
       "      <td>Electronic</td>\n",
       "    </tr>\n",
       "    <tr>\n",
       "      <th>4</th>\n",
       "      <td>Gob</td>\n",
       "      <td>Face the Ashes</td>\n",
       "      <td>70</td>\n",
       "      <td>Punk</td>\n",
       "    </tr>\n",
       "  </tbody>\n",
       "</table>\n",
       "</div>"
      ],
      "text/plain": [
       "         artist            title  play_count majority-genre\n",
       "0  Adelitas Way           Scream         515           Rock\n",
       "1  The Box Tops        Soul Deep          72           Rock\n",
       "2  Jamie Cullum  It's About Time         315           Jazz\n",
       "3      Son Kite     Game & Watch          14     Electronic\n",
       "4           Gob   Face the Ashes          70           Punk"
      ]
     },
     "execution_count": 71,
     "metadata": {},
     "output_type": "execute_result"
    }
   ],
   "source": [
    "genres_tracks_play_count.head()"
   ]
  },
  {
   "cell_type": "code",
   "execution_count": 73,
   "metadata": {},
   "outputs": [
    {
     "name": "stdout",
     "output_type": "stream",
     "text": [
      "Rock\n"
     ]
    },
    {
     "data": {
      "text/html": [
       "<div>\n",
       "<style scoped>\n",
       "    .dataframe tbody tr th:only-of-type {\n",
       "        vertical-align: middle;\n",
       "    }\n",
       "\n",
       "    .dataframe tbody tr th {\n",
       "        vertical-align: top;\n",
       "    }\n",
       "\n",
       "    .dataframe thead th {\n",
       "        text-align: right;\n",
       "    }\n",
       "</style>\n",
       "<table border=\"1\" class=\"dataframe\">\n",
       "  <thead>\n",
       "    <tr style=\"text-align: right;\">\n",
       "      <th></th>\n",
       "      <th>id</th>\n",
       "      <th>artist</th>\n",
       "      <th>title</th>\n",
       "      <th>play_count</th>\n",
       "    </tr>\n",
       "  </thead>\n",
       "  <tbody>\n",
       "    <tr>\n",
       "      <th>0</th>\n",
       "      <td>0</td>\n",
       "      <td>Björk</td>\n",
       "      <td>Undo</td>\n",
       "      <td>648239</td>\n",
       "    </tr>\n",
       "    <tr>\n",
       "      <th>1</th>\n",
       "      <td>1</td>\n",
       "      <td>Kings Of Leon</td>\n",
       "      <td>Revelry</td>\n",
       "      <td>527893</td>\n",
       "    </tr>\n",
       "    <tr>\n",
       "      <th>2</th>\n",
       "      <td>2</td>\n",
       "      <td>Harmonia</td>\n",
       "      <td>Sehr kosmisch</td>\n",
       "      <td>425463</td>\n",
       "    </tr>\n",
       "    <tr>\n",
       "      <th>3</th>\n",
       "      <td>3</td>\n",
       "      <td>OneRepublic</td>\n",
       "      <td>Secrets</td>\n",
       "      <td>292642</td>\n",
       "    </tr>\n",
       "    <tr>\n",
       "      <th>4</th>\n",
       "      <td>4</td>\n",
       "      <td>Tub Ring</td>\n",
       "      <td>Invalid</td>\n",
       "      <td>268353</td>\n",
       "    </tr>\n",
       "    <tr>\n",
       "      <th>...</th>\n",
       "      <td>...</td>\n",
       "      <td>...</td>\n",
       "      <td>...</td>\n",
       "      <td>...</td>\n",
       "    </tr>\n",
       "    <tr>\n",
       "      <th>95</th>\n",
       "      <td>95</td>\n",
       "      <td>Metric</td>\n",
       "      <td>Gold Guns Girls</td>\n",
       "      <td>28148</td>\n",
       "    </tr>\n",
       "    <tr>\n",
       "      <th>96</th>\n",
       "      <td>96</td>\n",
       "      <td>Pearl Jam</td>\n",
       "      <td>Encore Break</td>\n",
       "      <td>27579</td>\n",
       "    </tr>\n",
       "    <tr>\n",
       "      <th>97</th>\n",
       "      <td>97</td>\n",
       "      <td>Daughtry</td>\n",
       "      <td>No Surprise</td>\n",
       "      <td>27187</td>\n",
       "    </tr>\n",
       "    <tr>\n",
       "      <th>98</th>\n",
       "      <td>98</td>\n",
       "      <td>Eric Clapton</td>\n",
       "      <td>Tears In Heaven</td>\n",
       "      <td>26999</td>\n",
       "    </tr>\n",
       "    <tr>\n",
       "      <th>99</th>\n",
       "      <td>99</td>\n",
       "      <td>Nick Lowe</td>\n",
       "      <td>All Men Are Liars</td>\n",
       "      <td>26683</td>\n",
       "    </tr>\n",
       "  </tbody>\n",
       "</table>\n",
       "<p>100 rows × 4 columns</p>\n",
       "</div>"
      ],
      "text/plain": [
       "    id         artist              title  play_count\n",
       "0    0          Björk               Undo      648239\n",
       "1    1  Kings Of Leon            Revelry      527893\n",
       "2    2       Harmonia      Sehr kosmisch      425463\n",
       "3    3    OneRepublic            Secrets      292642\n",
       "4    4       Tub Ring            Invalid      268353\n",
       "..  ..            ...                ...         ...\n",
       "95  95         Metric    Gold Guns Girls       28148\n",
       "96  96      Pearl Jam       Encore Break       27579\n",
       "97  97       Daughtry        No Surprise       27187\n",
       "98  98   Eric Clapton    Tears In Heaven       26999\n",
       "99  99      Nick Lowe  All Men Are Liars       26683\n",
       "\n",
       "[100 rows x 4 columns]"
      ]
     },
     "execution_count": 73,
     "metadata": {},
     "output_type": "execute_result"
    }
   ],
   "source": [
    "genre = input()\n",
    "top_100_genres = genres_tracks_play_count[genres_tracks_play_count['majority-genre'] == genre]\n",
    "top_100_genres = top_100_genres.sort_values(by=['play_count'], ascending=False)[:100].reset_index(drop=True)\n",
    "top_100_genres['id'] = [i for i in range(100)]\n",
    "cols = ['id', 'artist', 'title', 'play_count']\n",
    "top_100_genres[cols]"
   ]
  },
  {
   "cell_type": "markdown",
   "metadata": {},
   "source": [
    "# Collections"
   ]
  },
  {
   "cell_type": "markdown",
   "metadata": {},
   "source": [
    "It should return on a given keyword (love, war, happiness) a dataframe (50 tracks) with the following fields: index number, artist name, track title, play count. The table should be sorted by the play count descendingly. Try different approaches to these recommendations:\n",
    "\n",
    "* baseline - when you look for the keyword and the number of its occurrences in a song, filter using some threshold and then sorting it by the play count,\n",
    "\n",
    "* word2vec - when you look not only for the keyword but for several similar tokens as well using word2vec,\n",
    "\n",
    "* classification task - you may label your data and try classification algorithms that will predict for the other part of the dataset if a track belongs to a specific class.\n",
    "\n",
    "Maybe you find some other interesting ideas on how to make those recommendations\n",
    "better."
   ]
  },
  {
   "cell_type": "code",
   "execution_count": 96,
   "metadata": {},
   "outputs": [],
   "source": [
    "lines = []\n",
    "with open(MXM_FILE_PATH, 'r') as f:\n",
    "    for line in f:\n",
    "        if line[0] != '#':\n",
    "            lines.append(line.rstrip())"
   ]
  },
  {
   "cell_type": "code",
   "execution_count": 97,
   "metadata": {},
   "outputs": [],
   "source": [
    "bag_of_words = lines[0][1:]\n",
    "lines.pop(0)\n",
    "bag_of_words = bag_of_words.split(',')"
   ]
  },
  {
   "cell_type": "code",
   "execution_count": 98,
   "metadata": {},
   "outputs": [],
   "source": [
    "keywords = ('love', 'war', 'happiness')"
   ]
  },
  {
   "cell_type": "code",
   "execution_count": 99,
   "metadata": {},
   "outputs": [
    {
     "data": {
      "text/plain": [
       "(True, True, False)"
      ]
     },
     "execution_count": 99,
     "metadata": {},
     "output_type": "execute_result"
    }
   ],
   "source": [
    "'love' in bag_of_words, 'war' in bag_of_words, 'happiness' in bag_of_words"
   ]
  },
  {
   "cell_type": "code",
   "execution_count": 100,
   "metadata": {},
   "outputs": [],
   "source": [
    "bag_of_words.append('happiness')"
   ]
  },
  {
   "cell_type": "code",
   "execution_count": 101,
   "metadata": {},
   "outputs": [
    {
     "data": {
      "text/plain": [
       "'happiness'"
      ]
     },
     "execution_count": 101,
     "metadata": {},
     "output_type": "execute_result"
    }
   ],
   "source": [
    "bag_of_words[-1]"
   ]
  },
  {
   "cell_type": "code",
   "execution_count": 118,
   "metadata": {},
   "outputs": [],
   "source": [
    "stop_words = set(stopwords.words('english'))"
   ]
  },
  {
   "cell_type": "code",
   "execution_count": 189,
   "metadata": {},
   "outputs": [
    {
     "name": "stdout",
     "output_type": "stream",
     "text": [
      "[===============================================---] 95.3% 190.2/199.5MB downloaded\n"
     ]
    }
   ],
   "source": [
    "glove_vectors = api.load('glove-twitter-50')"
   ]
  },
  {
   "cell_type": "code",
   "execution_count": 267,
   "metadata": {},
   "outputs": [],
   "source": [
    "def get_song_text(sparse_song):\n",
    "    song_text = []\n",
    "    for freq in sparse_song:\n",
    "        word_idx, cnt = freq.split(':')\n",
    "        word_idx, cnt = int(word_idx), int(cnt)\n",
    "        if bag_of_words[word_idx] not in stop_words:\n",
    "            for _ in range(cnt):\n",
    "                song_text.append(bag_of_words[word_idx])\n",
    "    return ' '.join(song_text)"
   ]
  },
  {
   "cell_type": "code",
   "execution_count": 268,
   "metadata": {},
   "outputs": [],
   "source": [
    "def get_song_vector(text):\n",
    "    song_vec = None\n",
    "    song_text = text.split()\n",
    "    for word in song_text:\n",
    "        if glove_vectors.has_index_for(word):\n",
    "            if song_vec is None:\n",
    "                song_vec = glove_vectors[word]\n",
    "            else:\n",
    "                song_vec = song_vec + glove_vectors[word]\n",
    "    return song_vec"
   ]
  },
  {
   "cell_type": "code",
   "execution_count": 291,
   "metadata": {},
   "outputs": [
    {
     "data": {
      "application/vnd.jupyter.widget-view+json": {
       "model_id": "cbcc2bcb120e4d58aa9df425ae2248ed",
       "version_major": 2,
       "version_minor": 0
      },
      "text/plain": [
       "  0%|          | 0/210519 [00:00<?, ?it/s]"
      ]
     },
     "metadata": {},
     "output_type": "display_data"
    }
   ],
   "source": [
    "song_texts = []\n",
    "songs_vecs = []\n",
    "tracks_ids = []\n",
    "cos_simialarities = []\n",
    "for line in tqdm(lines):\n",
    "    mxm_data = line.split(',')\n",
    "    track_id = mxm_data[0]\n",
    "    tracks_ids.append(track_id)\n",
    "    sparse_song = mxm_data[2:]\n",
    "    song_text = get_song_text(sparse_song)\n",
    "    song_texts.append(song_text)\n",
    "    song_vec = get_song_vector(song_text)\n",
    "    songs_vecs.append(song_vec)\n",
    "    if song_vec is not None:\n",
    "        cos_simialarities.append(np.dot(keywords_vec, song_vec) / (np.linalg.norm(keywords_vec) * np.linalg.norm(song_vec)))\n",
    "    else:\n",
    "        cos_simialarities.append(0)"
   ]
  },
  {
   "cell_type": "code",
   "execution_count": 292,
   "metadata": {},
   "outputs": [],
   "source": [
    "df_vecs = pd.DataFrame(data={\n",
    "    'track_id': tracks_ids,\n",
    "    'text': song_texts,\n",
    "    'vec': songs_vecs,\n",
    "    'cos_simialarity': cos_simialarities\n",
    "})"
   ]
  },
  {
   "cell_type": "code",
   "execution_count": 293,
   "metadata": {},
   "outputs": [
    {
     "data": {
      "text/html": [
       "<div>\n",
       "<style scoped>\n",
       "    .dataframe tbody tr th:only-of-type {\n",
       "        vertical-align: middle;\n",
       "    }\n",
       "\n",
       "    .dataframe tbody tr th {\n",
       "        vertical-align: top;\n",
       "    }\n",
       "\n",
       "    .dataframe thead th {\n",
       "        text-align: right;\n",
       "    }\n",
       "</style>\n",
       "<table border=\"1\" class=\"dataframe\">\n",
       "  <thead>\n",
       "    <tr style=\"text-align: right;\">\n",
       "      <th></th>\n",
       "      <th>track_id</th>\n",
       "      <th>text</th>\n",
       "      <th>vec</th>\n",
       "      <th>cos_simialarity</th>\n",
       "    </tr>\n",
       "  </thead>\n",
       "  <tbody>\n",
       "    <tr>\n",
       "      <th>0</th>\n",
       "      <td>TRAAAAV128F421A322</td>\n",
       "      <td>love love know oh see see got never tell bette...</td>\n",
       "      <td>[-2.0894647, 6.0178843, 0.25885606, -2.67679, ...</td>\n",
       "      <td>0.858466</td>\n",
       "    </tr>\n",
       "    <tr>\n",
       "      <th>1</th>\n",
       "      <td>TRAAABD128F429CF47</td>\n",
       "      <td>love love love love love love know know like l...</td>\n",
       "      <td>[-5.171518, 13.092293, -12.755945, 6.236166, -...</td>\n",
       "      <td>0.886198</td>\n",
       "    </tr>\n",
       "    <tr>\n",
       "      <th>2</th>\n",
       "      <td>TRAAAED128E0783FAB</td>\n",
       "      <td>love love love know know know know know know k...</td>\n",
       "      <td>[-7.3665357, 40.399227, -20.012774, 14.979369,...</td>\n",
       "      <td>0.840179</td>\n",
       "    </tr>\n",
       "    <tr>\n",
       "      <th>3</th>\n",
       "      <td>TRAAAEF128F4273421</td>\n",
       "      <td>like come got never never never want make hear...</td>\n",
       "      <td>[-8.592678, 29.81589, -17.426216, 9.31735, -21...</td>\n",
       "      <td>0.771854</td>\n",
       "    </tr>\n",
       "    <tr>\n",
       "      <th>4</th>\n",
       "      <td>TRAAAEW128F42930C0</td>\n",
       "      <td>oh would whi whi whi wo still si place sun sun...</td>\n",
       "      <td>[-11.162049, -2.3622503, 1.5965956, -1.3068831...</td>\n",
       "      <td>0.842946</td>\n",
       "    </tr>\n",
       "  </tbody>\n",
       "</table>\n",
       "</div>"
      ],
      "text/plain": [
       "             track_id                                               text  \\\n",
       "0  TRAAAAV128F421A322  love love know oh see see got never tell bette...   \n",
       "1  TRAAABD128F429CF47  love love love love love love know know like l...   \n",
       "2  TRAAAED128E0783FAB  love love love know know know know know know k...   \n",
       "3  TRAAAEF128F4273421  like come got never never never want make hear...   \n",
       "4  TRAAAEW128F42930C0  oh would whi whi whi wo still si place sun sun...   \n",
       "\n",
       "                                                 vec  cos_simialarity  \n",
       "0  [-2.0894647, 6.0178843, 0.25885606, -2.67679, ...         0.858466  \n",
       "1  [-5.171518, 13.092293, -12.755945, 6.236166, -...         0.886198  \n",
       "2  [-7.3665357, 40.399227, -20.012774, 14.979369,...         0.840179  \n",
       "3  [-8.592678, 29.81589, -17.426216, 9.31735, -21...         0.771854  \n",
       "4  [-11.162049, -2.3622503, 1.5965956, -1.3068831...         0.842946  "
      ]
     },
     "execution_count": 293,
     "metadata": {},
     "output_type": "execute_result"
    }
   ],
   "source": [
    "df_vecs.head()"
   ]
  },
  {
   "cell_type": "code",
   "execution_count": 281,
   "metadata": {},
   "outputs": [],
   "source": [
    "df_vecs['vec'].iloc[5300]"
   ]
  },
  {
   "cell_type": "code",
   "execution_count": 296,
   "metadata": {},
   "outputs": [
    {
     "data": {
      "text/html": [
       "<div>\n",
       "<style scoped>\n",
       "    .dataframe tbody tr th:only-of-type {\n",
       "        vertical-align: middle;\n",
       "    }\n",
       "\n",
       "    .dataframe tbody tr th {\n",
       "        vertical-align: top;\n",
       "    }\n",
       "\n",
       "    .dataframe thead th {\n",
       "        text-align: right;\n",
       "    }\n",
       "</style>\n",
       "<table border=\"1\" class=\"dataframe\">\n",
       "  <thead>\n",
       "    <tr style=\"text-align: right;\">\n",
       "      <th></th>\n",
       "      <th>track_id</th>\n",
       "      <th>text</th>\n",
       "      <th>vec</th>\n",
       "      <th>cos_simialarity</th>\n",
       "    </tr>\n",
       "  </thead>\n",
       "  <tbody>\n",
       "    <tr>\n",
       "      <th>0</th>\n",
       "      <td>TRWNCVL128F427EDD9</td>\n",
       "      <td>love love love love love love love love love l...</td>\n",
       "      <td>[-16.550362, 16.045406, -2.1825294, 16.317165,...</td>\n",
       "      <td>0.929270</td>\n",
       "    </tr>\n",
       "    <tr>\n",
       "      <th>1</th>\n",
       "      <td>TREKZMW128E0792E42</td>\n",
       "      <td>que come go see got got let let life life life...</td>\n",
       "      <td>[-13.222571, -2.488165, -5.7816067, 38.276566,...</td>\n",
       "      <td>0.927962</td>\n",
       "    </tr>\n",
       "    <tr>\n",
       "      <th>2</th>\n",
       "      <td>TROKOGO128F93145EB</td>\n",
       "      <td>love love never life du watch der der rise sur...</td>\n",
       "      <td>[-0.65263754, 0.6674489, -1.321255, -0.7814939...</td>\n",
       "      <td>0.924847</td>\n",
       "    </tr>\n",
       "    <tr>\n",
       "      <th>3</th>\n",
       "      <td>TRJCENK128F4231FD8</td>\n",
       "      <td>love love love love love love love love yeah w...</td>\n",
       "      <td>[-2.6857, 8.27684, 0.97549415, 12.149147, -4.7...</td>\n",
       "      <td>0.923518</td>\n",
       "    </tr>\n",
       "    <tr>\n",
       "      <th>4</th>\n",
       "      <td>TREPUYD128F145AC92</td>\n",
       "      <td>de life life world live still kill kill morn s...</td>\n",
       "      <td>[-0.20297599, 2.9049802, -1.5434803, -1.553833...</td>\n",
       "      <td>0.921292</td>\n",
       "    </tr>\n",
       "  </tbody>\n",
       "</table>\n",
       "</div>"
      ],
      "text/plain": [
       "             track_id                                               text  \\\n",
       "0  TRWNCVL128F427EDD9  love love love love love love love love love l...   \n",
       "1  TREKZMW128E0792E42  que come go see got got let let life life life...   \n",
       "2  TROKOGO128F93145EB  love love never life du watch der der rise sur...   \n",
       "3  TRJCENK128F4231FD8  love love love love love love love love yeah w...   \n",
       "4  TREPUYD128F145AC92  de life life world live still kill kill morn s...   \n",
       "\n",
       "                                                 vec  cos_simialarity  \n",
       "0  [-16.550362, 16.045406, -2.1825294, 16.317165,...         0.929270  \n",
       "1  [-13.222571, -2.488165, -5.7816067, 38.276566,...         0.927962  \n",
       "2  [-0.65263754, 0.6674489, -1.321255, -0.7814939...         0.924847  \n",
       "3  [-2.6857, 8.27684, 0.97549415, 12.149147, -4.7...         0.923518  \n",
       "4  [-0.20297599, 2.9049802, -1.5434803, -1.553833...         0.921292  "
      ]
     },
     "execution_count": 296,
     "metadata": {},
     "output_type": "execute_result"
    }
   ],
   "source": [
    "top_50_collections = df_vecs.sort_values(by=['cos_simialarity'], ascending=False)[:50]\n",
    "top_50_collections = top_50_collections.reset_index(drop=True)\n",
    "top_50_collections.head()"
   ]
  },
  {
   "cell_type": "code",
   "execution_count": 313,
   "metadata": {},
   "outputs": [
    {
     "data": {
      "application/vnd.jupyter.widget-view+json": {
       "model_id": "858e76e34e41479f9df8835f59c73228",
       "version_major": 2,
       "version_minor": 0
      },
      "text/plain": [
       "  0%|          | 0/50 [00:00<?, ?it/s]"
      ]
     },
     "metadata": {},
     "output_type": "display_data"
    }
   ],
   "source": [
    "artists = []\n",
    "titles = []\n",
    "play_counts = []\n",
    "for track_id in tqdm(top_50_collections['track_id']):\n",
    "    track_info = unique_tracks[unique_tracks['track_id'] == track_id]\n",
    "    song_id = track_info['song_id'].iloc[0]\n",
    "    artist = track_info['artist'].iloc[0]\n",
    "    title = track_info['title'].iloc[0]\n",
    "    play_count = songs_play_count[songs_play_count['song_id'] == song_id]['play_count']\n",
    "    if play_count.empty:\n",
    "        play_count= None\n",
    "    else:\n",
    "        play_count = play_count.iloc[0]\n",
    "    artists.append(artist)\n",
    "    titles.append(title)\n",
    "    play_counts.append(play_count)"
   ]
  },
  {
   "cell_type": "code",
   "execution_count": 314,
   "metadata": {},
   "outputs": [],
   "source": [
    "top_50_collections['artist'] = artists\n",
    "top_50_collections['title'] = titles\n",
    "top_50_collections['play_count'] = play_counts"
   ]
  },
  {
   "cell_type": "code",
   "execution_count": 315,
   "metadata": {},
   "outputs": [
    {
     "data": {
      "text/html": [
       "<div>\n",
       "<style scoped>\n",
       "    .dataframe tbody tr th:only-of-type {\n",
       "        vertical-align: middle;\n",
       "    }\n",
       "\n",
       "    .dataframe tbody tr th {\n",
       "        vertical-align: top;\n",
       "    }\n",
       "\n",
       "    .dataframe thead th {\n",
       "        text-align: right;\n",
       "    }\n",
       "</style>\n",
       "<table border=\"1\" class=\"dataframe\">\n",
       "  <thead>\n",
       "    <tr style=\"text-align: right;\">\n",
       "      <th></th>\n",
       "      <th>track_id</th>\n",
       "      <th>text</th>\n",
       "      <th>vec</th>\n",
       "      <th>cos_simialarity</th>\n",
       "      <th>artist</th>\n",
       "      <th>title</th>\n",
       "      <th>play_count</th>\n",
       "    </tr>\n",
       "  </thead>\n",
       "  <tbody>\n",
       "    <tr>\n",
       "      <th>0</th>\n",
       "      <td>TRWNCVL128F427EDD9</td>\n",
       "      <td>love love love love love love love love love l...</td>\n",
       "      <td>[-16.550362, 16.045406, -2.1825294, 16.317165,...</td>\n",
       "      <td>0.929270</td>\n",
       "      <td>Jack Ingram</td>\n",
       "      <td>Still Got Scars</td>\n",
       "      <td>NaN</td>\n",
       "    </tr>\n",
       "    <tr>\n",
       "      <th>1</th>\n",
       "      <td>TREKZMW128E0792E42</td>\n",
       "      <td>que come go see got got let let life life life...</td>\n",
       "      <td>[-13.222571, -2.488165, -5.7816067, 38.276566,...</td>\n",
       "      <td>0.927962</td>\n",
       "      <td>Eagle-Eye Cherry</td>\n",
       "      <td>Permanent Tears</td>\n",
       "      <td>78.0</td>\n",
       "    </tr>\n",
       "    <tr>\n",
       "      <th>2</th>\n",
       "      <td>TROKOGO128F93145EB</td>\n",
       "      <td>love love never life du watch der der rise sur...</td>\n",
       "      <td>[-0.65263754, 0.6674489, -1.321255, -0.7814939...</td>\n",
       "      <td>0.924847</td>\n",
       "      <td>Her Space Holiday</td>\n",
       "      <td>Manic Expressive (Exit)</td>\n",
       "      <td>25.0</td>\n",
       "    </tr>\n",
       "    <tr>\n",
       "      <th>3</th>\n",
       "      <td>TRJCENK128F4231FD8</td>\n",
       "      <td>love love love love love love love love yeah w...</td>\n",
       "      <td>[-2.6857, 8.27684, 0.97549415, 12.149147, -4.7...</td>\n",
       "      <td>0.923518</td>\n",
       "      <td>Seven Mary Three</td>\n",
       "      <td>Southwestern State (LP Version)</td>\n",
       "      <td>NaN</td>\n",
       "    </tr>\n",
       "    <tr>\n",
       "      <th>4</th>\n",
       "      <td>TREPUYD128F145AC92</td>\n",
       "      <td>de life life world live still kill kill morn s...</td>\n",
       "      <td>[-0.20297599, 2.9049802, -1.5434803, -1.553833...</td>\n",
       "      <td>0.921292</td>\n",
       "      <td>Beastie Boys</td>\n",
       "      <td>5-Piece Chicken Dinner</td>\n",
       "      <td>22.0</td>\n",
       "    </tr>\n",
       "  </tbody>\n",
       "</table>\n",
       "</div>"
      ],
      "text/plain": [
       "             track_id                                               text  \\\n",
       "0  TRWNCVL128F427EDD9  love love love love love love love love love l...   \n",
       "1  TREKZMW128E0792E42  que come go see got got let let life life life...   \n",
       "2  TROKOGO128F93145EB  love love never life du watch der der rise sur...   \n",
       "3  TRJCENK128F4231FD8  love love love love love love love love yeah w...   \n",
       "4  TREPUYD128F145AC92  de life life world live still kill kill morn s...   \n",
       "\n",
       "                                                 vec  cos_simialarity  \\\n",
       "0  [-16.550362, 16.045406, -2.1825294, 16.317165,...         0.929270   \n",
       "1  [-13.222571, -2.488165, -5.7816067, 38.276566,...         0.927962   \n",
       "2  [-0.65263754, 0.6674489, -1.321255, -0.7814939...         0.924847   \n",
       "3  [-2.6857, 8.27684, 0.97549415, 12.149147, -4.7...         0.923518   \n",
       "4  [-0.20297599, 2.9049802, -1.5434803, -1.553833...         0.921292   \n",
       "\n",
       "              artist                            title  play_count  \n",
       "0        Jack Ingram                  Still Got Scars         NaN  \n",
       "1   Eagle-Eye Cherry                  Permanent Tears        78.0  \n",
       "2  Her Space Holiday          Manic Expressive (Exit)        25.0  \n",
       "3   Seven Mary Three  Southwestern State (LP Version)         NaN  \n",
       "4       Beastie Boys           5-Piece Chicken Dinner        22.0  "
      ]
     },
     "execution_count": 315,
     "metadata": {},
     "output_type": "execute_result"
    }
   ],
   "source": [
    "top_50_collections.head()"
   ]
  },
  {
   "cell_type": "code",
   "execution_count": 317,
   "metadata": {},
   "outputs": [],
   "source": [
    "top_50_collections = top_50_collections.drop(['track_id', 'text', 'vec', 'cos_simialarity'],\n",
    "                                             axis=1)"
   ]
  },
  {
   "cell_type": "code",
   "execution_count": 319,
   "metadata": {},
   "outputs": [
    {
     "data": {
      "text/html": [
       "<div>\n",
       "<style scoped>\n",
       "    .dataframe tbody tr th:only-of-type {\n",
       "        vertical-align: middle;\n",
       "    }\n",
       "\n",
       "    .dataframe tbody tr th {\n",
       "        vertical-align: top;\n",
       "    }\n",
       "\n",
       "    .dataframe thead th {\n",
       "        text-align: right;\n",
       "    }\n",
       "</style>\n",
       "<table border=\"1\" class=\"dataframe\">\n",
       "  <thead>\n",
       "    <tr style=\"text-align: right;\">\n",
       "      <th></th>\n",
       "      <th>artist</th>\n",
       "      <th>title</th>\n",
       "      <th>play_count</th>\n",
       "    </tr>\n",
       "  </thead>\n",
       "  <tbody>\n",
       "    <tr>\n",
       "      <th>0</th>\n",
       "      <td>Jack Ingram</td>\n",
       "      <td>Still Got Scars</td>\n",
       "      <td>NaN</td>\n",
       "    </tr>\n",
       "    <tr>\n",
       "      <th>1</th>\n",
       "      <td>Eagle-Eye Cherry</td>\n",
       "      <td>Permanent Tears</td>\n",
       "      <td>78.0</td>\n",
       "    </tr>\n",
       "    <tr>\n",
       "      <th>2</th>\n",
       "      <td>Her Space Holiday</td>\n",
       "      <td>Manic Expressive (Exit)</td>\n",
       "      <td>25.0</td>\n",
       "    </tr>\n",
       "    <tr>\n",
       "      <th>3</th>\n",
       "      <td>Seven Mary Three</td>\n",
       "      <td>Southwestern State (LP Version)</td>\n",
       "      <td>NaN</td>\n",
       "    </tr>\n",
       "    <tr>\n",
       "      <th>4</th>\n",
       "      <td>Beastie Boys</td>\n",
       "      <td>5-Piece Chicken Dinner</td>\n",
       "      <td>22.0</td>\n",
       "    </tr>\n",
       "  </tbody>\n",
       "</table>\n",
       "</div>"
      ],
      "text/plain": [
       "              artist                            title  play_count\n",
       "0        Jack Ingram                  Still Got Scars         NaN\n",
       "1   Eagle-Eye Cherry                  Permanent Tears        78.0\n",
       "2  Her Space Holiday          Manic Expressive (Exit)        25.0\n",
       "3   Seven Mary Three  Southwestern State (LP Version)         NaN\n",
       "4       Beastie Boys           5-Piece Chicken Dinner        22.0"
      ]
     },
     "execution_count": 319,
     "metadata": {},
     "output_type": "execute_result"
    }
   ],
   "source": [
    "top_50_collections.head()"
   ]
  },
  {
   "cell_type": "code",
   "execution_count": 320,
   "metadata": {},
   "outputs": [
    {
     "data": {
      "application/vnd.jupyter.widget-view+json": {
       "model_id": "bb7db8de234f4ebdbbd0b68bc44d8027",
       "version_major": 2,
       "version_minor": 0
      },
      "text/plain": [
       "  0%|          | 0/50 [00:00<?, ?it/s]"
      ]
     },
     "metadata": {},
     "output_type": "display_data"
    }
   ],
   "source": [
    "idxs = [i for i in tqdm(range(50))]\n",
    "top_50_collections['id'] = idxs"
   ]
  },
  {
   "cell_type": "code",
   "execution_count": 321,
   "metadata": {},
   "outputs": [
    {
     "data": {
      "text/html": [
       "<div>\n",
       "<style scoped>\n",
       "    .dataframe tbody tr th:only-of-type {\n",
       "        vertical-align: middle;\n",
       "    }\n",
       "\n",
       "    .dataframe tbody tr th {\n",
       "        vertical-align: top;\n",
       "    }\n",
       "\n",
       "    .dataframe thead th {\n",
       "        text-align: right;\n",
       "    }\n",
       "</style>\n",
       "<table border=\"1\" class=\"dataframe\">\n",
       "  <thead>\n",
       "    <tr style=\"text-align: right;\">\n",
       "      <th></th>\n",
       "      <th>artist</th>\n",
       "      <th>title</th>\n",
       "      <th>play_count</th>\n",
       "      <th>id</th>\n",
       "    </tr>\n",
       "  </thead>\n",
       "  <tbody>\n",
       "    <tr>\n",
       "      <th>0</th>\n",
       "      <td>Jack Ingram</td>\n",
       "      <td>Still Got Scars</td>\n",
       "      <td>NaN</td>\n",
       "      <td>0</td>\n",
       "    </tr>\n",
       "    <tr>\n",
       "      <th>1</th>\n",
       "      <td>Eagle-Eye Cherry</td>\n",
       "      <td>Permanent Tears</td>\n",
       "      <td>78.0</td>\n",
       "      <td>1</td>\n",
       "    </tr>\n",
       "    <tr>\n",
       "      <th>2</th>\n",
       "      <td>Her Space Holiday</td>\n",
       "      <td>Manic Expressive (Exit)</td>\n",
       "      <td>25.0</td>\n",
       "      <td>2</td>\n",
       "    </tr>\n",
       "    <tr>\n",
       "      <th>3</th>\n",
       "      <td>Seven Mary Three</td>\n",
       "      <td>Southwestern State (LP Version)</td>\n",
       "      <td>NaN</td>\n",
       "      <td>3</td>\n",
       "    </tr>\n",
       "    <tr>\n",
       "      <th>4</th>\n",
       "      <td>Beastie Boys</td>\n",
       "      <td>5-Piece Chicken Dinner</td>\n",
       "      <td>22.0</td>\n",
       "      <td>4</td>\n",
       "    </tr>\n",
       "  </tbody>\n",
       "</table>\n",
       "</div>"
      ],
      "text/plain": [
       "              artist                            title  play_count  id\n",
       "0        Jack Ingram                  Still Got Scars         NaN   0\n",
       "1   Eagle-Eye Cherry                  Permanent Tears        78.0   1\n",
       "2  Her Space Holiday          Manic Expressive (Exit)        25.0   2\n",
       "3   Seven Mary Three  Southwestern State (LP Version)         NaN   3\n",
       "4       Beastie Boys           5-Piece Chicken Dinner        22.0   4"
      ]
     },
     "execution_count": 321,
     "metadata": {},
     "output_type": "execute_result"
    }
   ],
   "source": [
    "top_50_collections.head()"
   ]
  },
  {
   "cell_type": "code",
   "execution_count": 322,
   "metadata": {},
   "outputs": [],
   "source": [
    "cols_order = ['id', 'artist', 'title', 'play_count']\n",
    "top_50_collections = top_50_collections[cols_order]"
   ]
  },
  {
   "cell_type": "code",
   "execution_count": 323,
   "metadata": {},
   "outputs": [
    {
     "data": {
      "text/html": [
       "<div>\n",
       "<style scoped>\n",
       "    .dataframe tbody tr th:only-of-type {\n",
       "        vertical-align: middle;\n",
       "    }\n",
       "\n",
       "    .dataframe tbody tr th {\n",
       "        vertical-align: top;\n",
       "    }\n",
       "\n",
       "    .dataframe thead th {\n",
       "        text-align: right;\n",
       "    }\n",
       "</style>\n",
       "<table border=\"1\" class=\"dataframe\">\n",
       "  <thead>\n",
       "    <tr style=\"text-align: right;\">\n",
       "      <th></th>\n",
       "      <th>id</th>\n",
       "      <th>artist</th>\n",
       "      <th>title</th>\n",
       "      <th>play_count</th>\n",
       "    </tr>\n",
       "  </thead>\n",
       "  <tbody>\n",
       "    <tr>\n",
       "      <th>0</th>\n",
       "      <td>0</td>\n",
       "      <td>Jack Ingram</td>\n",
       "      <td>Still Got Scars</td>\n",
       "      <td>NaN</td>\n",
       "    </tr>\n",
       "    <tr>\n",
       "      <th>1</th>\n",
       "      <td>1</td>\n",
       "      <td>Eagle-Eye Cherry</td>\n",
       "      <td>Permanent Tears</td>\n",
       "      <td>78.0</td>\n",
       "    </tr>\n",
       "    <tr>\n",
       "      <th>2</th>\n",
       "      <td>2</td>\n",
       "      <td>Her Space Holiday</td>\n",
       "      <td>Manic Expressive (Exit)</td>\n",
       "      <td>25.0</td>\n",
       "    </tr>\n",
       "    <tr>\n",
       "      <th>3</th>\n",
       "      <td>3</td>\n",
       "      <td>Seven Mary Three</td>\n",
       "      <td>Southwestern State (LP Version)</td>\n",
       "      <td>NaN</td>\n",
       "    </tr>\n",
       "    <tr>\n",
       "      <th>4</th>\n",
       "      <td>4</td>\n",
       "      <td>Beastie Boys</td>\n",
       "      <td>5-Piece Chicken Dinner</td>\n",
       "      <td>22.0</td>\n",
       "    </tr>\n",
       "  </tbody>\n",
       "</table>\n",
       "</div>"
      ],
      "text/plain": [
       "   id             artist                            title  play_count\n",
       "0   0        Jack Ingram                  Still Got Scars         NaN\n",
       "1   1   Eagle-Eye Cherry                  Permanent Tears        78.0\n",
       "2   2  Her Space Holiday          Manic Expressive (Exit)        25.0\n",
       "3   3   Seven Mary Three  Southwestern State (LP Version)         NaN\n",
       "4   4       Beastie Boys           5-Piece Chicken Dinner        22.0"
      ]
     },
     "execution_count": 323,
     "metadata": {},
     "output_type": "execute_result"
    }
   ],
   "source": [
    "top_50_collections.head()"
   ]
  },
  {
   "cell_type": "code",
   "execution_count": 325,
   "metadata": {},
   "outputs": [],
   "source": [
    "top_50_collections.to_csv('collections.csv', index=False)"
   ]
  },
  {
   "cell_type": "markdown",
   "metadata": {},
   "source": [
    "# People similar to you listen"
   ]
  }
 ],
 "metadata": {
  "kernelspec": {
   "display_name": "Python 3 (ipykernel)",
   "language": "python",
   "name": "python3"
  },
  "language_info": {
   "codemirror_mode": {
    "name": "ipython",
    "version": 3
   },
   "file_extension": ".py",
   "mimetype": "text/x-python",
   "name": "python",
   "nbconvert_exporter": "python",
   "pygments_lexer": "ipython3",
   "version": "3.10.9"
  }
 },
 "nbformat": 4,
 "nbformat_minor": 1
}
