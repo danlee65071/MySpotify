{
 "cells": [
  {
   "cell_type": "markdown",
   "source": [
    "# Import libraries"
   ],
   "metadata": {
    "collapsed": false
   }
  },
  {
   "cell_type": "code",
   "execution_count": 1,
   "outputs": [],
   "source": [
    "import numpy as np\n",
    "import pandas as pd\n",
    "\n",
    "from tqdm.auto import tqdm\n",
    "\n",
    "import os\n",
    "\n",
    "tqdm.pandas()"
   ],
   "metadata": {
    "collapsed": false
   }
  },
  {
   "cell_type": "markdown",
   "source": [
    "# Global variables"
   ],
   "metadata": {
    "collapsed": false
   }
  },
  {
   "cell_type": "code",
   "execution_count": 2,
   "outputs": [],
   "source": [
    "DATA_DIR = 'data'\n",
    "\n",
    "UNIQUE_TRACKS_DATA_FILE_NAME = 'p02_unique_tracks.txt'\n",
    "UNIQUE_TRACKS_DATA_FILE_PATH = os.path.join(DATA_DIR,\n",
    "                                            UNIQUE_TRACKS_DATA_FILE_NAME)\n",
    "\n",
    "\n",
    "TRIPLETS_DATA_FILE_NAME = 'train_triplets.txt'\n",
    "TRIPLETS_DATA_FILE_PATH = os.path.join(DATA_DIR,\n",
    "                                       TRIPLETS_DATA_FILE_NAME)\n",
    "\n",
    "\n",
    "MSD_TAGTRAUM_FILE_NAME = 'p02_msd_tagtraum_cd2.cls'\n",
    "MSD_TAGTRAUM_FILE_PATH = os.path.join(DATA_DIR,\n",
    "                                      MSD_TAGTRAUM_FILE_NAME)"
   ],
   "metadata": {
    "collapsed": false
   }
  },
  {
   "cell_type": "markdown",
   "source": [
    "# Top-250 tracks"
   ],
   "metadata": {
    "collapsed": false
   }
  },
  {
   "cell_type": "markdown",
   "source": [
    "It should return a dataframe with the following fields: index number, artist name, track title, play count. The table should be sorted by\n",
    "the play count descendingly."
   ],
   "metadata": {
    "collapsed": false
   }
  },
  {
   "cell_type": "code",
   "execution_count": 3,
   "outputs": [
    {
     "data": {
      "text/plain": "             track_id             song_id            artist              title\n0  TRMMMYQ128F932D901  SOQMMHC12AB0180CB8  Faster Pussy cat       Silent Night\n1  TRMMMKD128F425225D  SOVFVAK12A8C1350D9  Karkkiautomaatti        Tanssi vaan\n2  TRMMMRX128F93187D9  SOGTUKN12AB017F4F1    Hudson Mohawke  No One Could Ever\n3  TRMMMCH128F425532C  SOBNYVR12A8C13558C       Yerba Brava      Si Vos Querés\n4  TRMMMWA128F426B589  SOHSBXH12A8C13B0DF        Der Mystic   Tangle Of Aspens",
      "text/html": "<div>\n<style scoped>\n    .dataframe tbody tr th:only-of-type {\n        vertical-align: middle;\n    }\n\n    .dataframe tbody tr th {\n        vertical-align: top;\n    }\n\n    .dataframe thead th {\n        text-align: right;\n    }\n</style>\n<table border=\"1\" class=\"dataframe\">\n  <thead>\n    <tr style=\"text-align: right;\">\n      <th></th>\n      <th>track_id</th>\n      <th>song_id</th>\n      <th>artist</th>\n      <th>title</th>\n    </tr>\n  </thead>\n  <tbody>\n    <tr>\n      <th>0</th>\n      <td>TRMMMYQ128F932D901</td>\n      <td>SOQMMHC12AB0180CB8</td>\n      <td>Faster Pussy cat</td>\n      <td>Silent Night</td>\n    </tr>\n    <tr>\n      <th>1</th>\n      <td>TRMMMKD128F425225D</td>\n      <td>SOVFVAK12A8C1350D9</td>\n      <td>Karkkiautomaatti</td>\n      <td>Tanssi vaan</td>\n    </tr>\n    <tr>\n      <th>2</th>\n      <td>TRMMMRX128F93187D9</td>\n      <td>SOGTUKN12AB017F4F1</td>\n      <td>Hudson Mohawke</td>\n      <td>No One Could Ever</td>\n    </tr>\n    <tr>\n      <th>3</th>\n      <td>TRMMMCH128F425532C</td>\n      <td>SOBNYVR12A8C13558C</td>\n      <td>Yerba Brava</td>\n      <td>Si Vos Querés</td>\n    </tr>\n    <tr>\n      <th>4</th>\n      <td>TRMMMWA128F426B589</td>\n      <td>SOHSBXH12A8C13B0DF</td>\n      <td>Der Mystic</td>\n      <td>Tangle Of Aspens</td>\n    </tr>\n  </tbody>\n</table>\n</div>"
     },
     "execution_count": 3,
     "metadata": {},
     "output_type": "execute_result"
    }
   ],
   "source": [
    "unique_tracks = pd.read_csv(UNIQUE_TRACKS_DATA_FILE_PATH,\n",
    "                            sep='<SEP>',\n",
    "                            names=('track_id', 'song_id', 'artist', 'title'),\n",
    "                            engine='python')\n",
    "unique_tracks.head()"
   ],
   "metadata": {
    "collapsed": false
   }
  },
  {
   "cell_type": "code",
   "execution_count": 4,
   "outputs": [
    {
     "data": {
      "text/plain": "(1000000, 4)"
     },
     "execution_count": 4,
     "metadata": {},
     "output_type": "execute_result"
    }
   ],
   "source": [
    "unique_tracks.shape"
   ],
   "metadata": {
    "collapsed": false
   }
  },
  {
   "cell_type": "code",
   "execution_count": 5,
   "outputs": [
    {
     "data": {
      "text/plain": "                                    user_id             song_id  play_count\n0  b80344d063b5ccb3212f76538f3d9e43d87dca9e  SOAKIMP12A8C130995           1\n1  b80344d063b5ccb3212f76538f3d9e43d87dca9e  SOAPDEY12A81C210A9           1\n2  b80344d063b5ccb3212f76538f3d9e43d87dca9e  SOBBMDR12A8C13253B           2\n3  b80344d063b5ccb3212f76538f3d9e43d87dca9e  SOBFNSP12AF72A0E22           1\n4  b80344d063b5ccb3212f76538f3d9e43d87dca9e  SOBFOVM12A58A7D494           1",
      "text/html": "<div>\n<style scoped>\n    .dataframe tbody tr th:only-of-type {\n        vertical-align: middle;\n    }\n\n    .dataframe tbody tr th {\n        vertical-align: top;\n    }\n\n    .dataframe thead th {\n        text-align: right;\n    }\n</style>\n<table border=\"1\" class=\"dataframe\">\n  <thead>\n    <tr style=\"text-align: right;\">\n      <th></th>\n      <th>user_id</th>\n      <th>song_id</th>\n      <th>play_count</th>\n    </tr>\n  </thead>\n  <tbody>\n    <tr>\n      <th>0</th>\n      <td>b80344d063b5ccb3212f76538f3d9e43d87dca9e</td>\n      <td>SOAKIMP12A8C130995</td>\n      <td>1</td>\n    </tr>\n    <tr>\n      <th>1</th>\n      <td>b80344d063b5ccb3212f76538f3d9e43d87dca9e</td>\n      <td>SOAPDEY12A81C210A9</td>\n      <td>1</td>\n    </tr>\n    <tr>\n      <th>2</th>\n      <td>b80344d063b5ccb3212f76538f3d9e43d87dca9e</td>\n      <td>SOBBMDR12A8C13253B</td>\n      <td>2</td>\n    </tr>\n    <tr>\n      <th>3</th>\n      <td>b80344d063b5ccb3212f76538f3d9e43d87dca9e</td>\n      <td>SOBFNSP12AF72A0E22</td>\n      <td>1</td>\n    </tr>\n    <tr>\n      <th>4</th>\n      <td>b80344d063b5ccb3212f76538f3d9e43d87dca9e</td>\n      <td>SOBFOVM12A58A7D494</td>\n      <td>1</td>\n    </tr>\n  </tbody>\n</table>\n</div>"
     },
     "execution_count": 5,
     "metadata": {},
     "output_type": "execute_result"
    }
   ],
   "source": [
    "triplets = pd.read_csv(TRIPLETS_DATA_FILE_PATH,\n",
    "                       sep='\\t',\n",
    "                       names=('user_id', 'song_id', 'play_count'),\n",
    "                       engine='python')\n",
    "triplets.head()"
   ],
   "metadata": {
    "collapsed": false
   }
  },
  {
   "cell_type": "code",
   "execution_count": 6,
   "outputs": [
    {
     "data": {
      "text/plain": "(48373586, 3)"
     },
     "execution_count": 6,
     "metadata": {},
     "output_type": "execute_result"
    }
   ],
   "source": [
    "triplets.shape"
   ],
   "metadata": {
    "collapsed": false
   }
  },
  {
   "cell_type": "code",
   "execution_count": 15,
   "outputs": [],
   "source": [
    "songs_play_count = triplets.groupby(by=['song_id'])['play_count'].sum()"
   ],
   "metadata": {
    "collapsed": false
   }
  },
  {
   "cell_type": "code",
   "execution_count": 17,
   "outputs": [
    {
     "data": {
      "text/plain": "              song_id  play_count\n0  SOAAADD12AB018A9DD          24\n1  SOAAADE12A6D4F80CC          12\n2  SOAAADF12A8C13DF62           9\n3  SOAAADZ12A8C1334FB          12\n4  SOAAAFI12A6D4F9C66         188",
      "text/html": "<div>\n<style scoped>\n    .dataframe tbody tr th:only-of-type {\n        vertical-align: middle;\n    }\n\n    .dataframe tbody tr th {\n        vertical-align: top;\n    }\n\n    .dataframe thead th {\n        text-align: right;\n    }\n</style>\n<table border=\"1\" class=\"dataframe\">\n  <thead>\n    <tr style=\"text-align: right;\">\n      <th></th>\n      <th>song_id</th>\n      <th>play_count</th>\n    </tr>\n  </thead>\n  <tbody>\n    <tr>\n      <th>0</th>\n      <td>SOAAADD12AB018A9DD</td>\n      <td>24</td>\n    </tr>\n    <tr>\n      <th>1</th>\n      <td>SOAAADE12A6D4F80CC</td>\n      <td>12</td>\n    </tr>\n    <tr>\n      <th>2</th>\n      <td>SOAAADF12A8C13DF62</td>\n      <td>9</td>\n    </tr>\n    <tr>\n      <th>3</th>\n      <td>SOAAADZ12A8C1334FB</td>\n      <td>12</td>\n    </tr>\n    <tr>\n      <th>4</th>\n      <td>SOAAAFI12A6D4F9C66</td>\n      <td>188</td>\n    </tr>\n  </tbody>\n</table>\n</div>"
     },
     "execution_count": 17,
     "metadata": {},
     "output_type": "execute_result"
    }
   ],
   "source": [
    "songs_play_count = songs_play_count.reset_index()\n",
    "songs_play_count.head()"
   ],
   "metadata": {
    "collapsed": false
   }
  },
  {
   "cell_type": "code",
   "execution_count": 18,
   "outputs": [],
   "source": [
    "top_250_tracks = songs_play_count.sort_values(by=['play_count'], ascending=False).head(250)"
   ],
   "metadata": {
    "collapsed": false
   }
  },
  {
   "cell_type": "code",
   "execution_count": 19,
   "outputs": [
    {
     "data": {
      "text/plain": "              song_id  play_count\n0  SOBONKR12A58A7A7E0      726885\n1  SOAUWYT12A81C206F1      648239\n2  SOSXLTC12AF72A7F54      527893\n3  SOFRQTD12A81C233C0      425463\n4  SOEGIYH12A6D4FC0E3      389880",
      "text/html": "<div>\n<style scoped>\n    .dataframe tbody tr th:only-of-type {\n        vertical-align: middle;\n    }\n\n    .dataframe tbody tr th {\n        vertical-align: top;\n    }\n\n    .dataframe thead th {\n        text-align: right;\n    }\n</style>\n<table border=\"1\" class=\"dataframe\">\n  <thead>\n    <tr style=\"text-align: right;\">\n      <th></th>\n      <th>song_id</th>\n      <th>play_count</th>\n    </tr>\n  </thead>\n  <tbody>\n    <tr>\n      <th>0</th>\n      <td>SOBONKR12A58A7A7E0</td>\n      <td>726885</td>\n    </tr>\n    <tr>\n      <th>1</th>\n      <td>SOAUWYT12A81C206F1</td>\n      <td>648239</td>\n    </tr>\n    <tr>\n      <th>2</th>\n      <td>SOSXLTC12AF72A7F54</td>\n      <td>527893</td>\n    </tr>\n    <tr>\n      <th>3</th>\n      <td>SOFRQTD12A81C233C0</td>\n      <td>425463</td>\n    </tr>\n    <tr>\n      <th>4</th>\n      <td>SOEGIYH12A6D4FC0E3</td>\n      <td>389880</td>\n    </tr>\n  </tbody>\n</table>\n</div>"
     },
     "execution_count": 19,
     "metadata": {},
     "output_type": "execute_result"
    }
   ],
   "source": [
    "top_250_tracks = top_250_tracks.reset_index(drop=True)\n",
    "top_250_tracks.head()"
   ],
   "metadata": {
    "collapsed": false
   }
  },
  {
   "cell_type": "code",
   "execution_count": 20,
   "outputs": [
    {
     "data": {
      "text/plain": "  0%|          | 0/250 [00:00<?, ?it/s]",
      "application/vnd.jupyter.widget-view+json": {
       "version_major": 2,
       "version_minor": 0,
       "model_id": "bd588878cc58465cb1a1cc23b43c50bb"
      }
     },
     "metadata": {},
     "output_type": "display_data"
    }
   ],
   "source": [
    "artists = [unique_tracks[unique_tracks['song_id'] == track[0]]['artist'].values[0]\n",
    "           for track in tqdm(top_250_tracks.values)]"
   ],
   "metadata": {
    "collapsed": false
   }
  },
  {
   "cell_type": "code",
   "execution_count": 21,
   "outputs": [
    {
     "data": {
      "text/plain": "['Dwight Yoakam',\n 'Björk',\n 'Kings Of Leon',\n 'Harmonia',\n 'Barry Tuckwell/Academy of St Martin-in-the-Fields/Sir Neville Marriner']"
     },
     "execution_count": 21,
     "metadata": {},
     "output_type": "execute_result"
    }
   ],
   "source": [
    "artists[:5]"
   ],
   "metadata": {
    "collapsed": false
   }
  },
  {
   "cell_type": "code",
   "execution_count": 22,
   "outputs": [
    {
     "data": {
      "text/plain": "  0%|          | 0/250 [00:00<?, ?it/s]",
      "application/vnd.jupyter.widget-view+json": {
       "version_major": 2,
       "version_minor": 0,
       "model_id": "c0c64e5f9cbb47aa9de3e6b53afeb268"
      }
     },
     "metadata": {},
     "output_type": "display_data"
    }
   ],
   "source": [
    "titles = [unique_tracks[unique_tracks['song_id'] == track[0]]['title'].values[0]\n",
    "           for track in tqdm(top_250_tracks.values)]"
   ],
   "metadata": {
    "collapsed": false
   }
  },
  {
   "cell_type": "code",
   "execution_count": 23,
   "outputs": [
    {
     "data": {
      "text/plain": "[\"You're The One\",\n 'Undo',\n 'Revelry',\n 'Sehr kosmisch',\n 'Horn Concerto No. 4 in E flat K495: II. Romance (Andante cantabile)']"
     },
     "execution_count": 23,
     "metadata": {},
     "output_type": "execute_result"
    }
   ],
   "source": [
    "titles[:5]"
   ],
   "metadata": {
    "collapsed": false
   }
  },
  {
   "cell_type": "code",
   "execution_count": 24,
   "outputs": [],
   "source": [
    "top_250_tracks['artist'] = artists\n",
    "top_250_tracks['title'] = titles\n",
    "top_250_tracks['id'] = [i for i in range(top_250_tracks.shape[0])]"
   ],
   "metadata": {
    "collapsed": false
   }
  },
  {
   "cell_type": "code",
   "execution_count": 25,
   "outputs": [
    {
     "data": {
      "text/plain": "              song_id  play_count  \\\n0  SOBONKR12A58A7A7E0      726885   \n1  SOAUWYT12A81C206F1      648239   \n2  SOSXLTC12AF72A7F54      527893   \n3  SOFRQTD12A81C233C0      425463   \n4  SOEGIYH12A6D4FC0E3      389880   \n\n                                              artist  \\\n0                                      Dwight Yoakam   \n1                                              Björk   \n2                                      Kings Of Leon   \n3                                           Harmonia   \n4  Barry Tuckwell/Academy of St Martin-in-the-Fie...   \n\n                                               title  id  \n0                                     You're The One   0  \n1                                               Undo   1  \n2                                            Revelry   2  \n3                                      Sehr kosmisch   3  \n4  Horn Concerto No. 4 in E flat K495: II. Romanc...   4  ",
      "text/html": "<div>\n<style scoped>\n    .dataframe tbody tr th:only-of-type {\n        vertical-align: middle;\n    }\n\n    .dataframe tbody tr th {\n        vertical-align: top;\n    }\n\n    .dataframe thead th {\n        text-align: right;\n    }\n</style>\n<table border=\"1\" class=\"dataframe\">\n  <thead>\n    <tr style=\"text-align: right;\">\n      <th></th>\n      <th>song_id</th>\n      <th>play_count</th>\n      <th>artist</th>\n      <th>title</th>\n      <th>id</th>\n    </tr>\n  </thead>\n  <tbody>\n    <tr>\n      <th>0</th>\n      <td>SOBONKR12A58A7A7E0</td>\n      <td>726885</td>\n      <td>Dwight Yoakam</td>\n      <td>You're The One</td>\n      <td>0</td>\n    </tr>\n    <tr>\n      <th>1</th>\n      <td>SOAUWYT12A81C206F1</td>\n      <td>648239</td>\n      <td>Björk</td>\n      <td>Undo</td>\n      <td>1</td>\n    </tr>\n    <tr>\n      <th>2</th>\n      <td>SOSXLTC12AF72A7F54</td>\n      <td>527893</td>\n      <td>Kings Of Leon</td>\n      <td>Revelry</td>\n      <td>2</td>\n    </tr>\n    <tr>\n      <th>3</th>\n      <td>SOFRQTD12A81C233C0</td>\n      <td>425463</td>\n      <td>Harmonia</td>\n      <td>Sehr kosmisch</td>\n      <td>3</td>\n    </tr>\n    <tr>\n      <th>4</th>\n      <td>SOEGIYH12A6D4FC0E3</td>\n      <td>389880</td>\n      <td>Barry Tuckwell/Academy of St Martin-in-the-Fie...</td>\n      <td>Horn Concerto No. 4 in E flat K495: II. Romanc...</td>\n      <td>4</td>\n    </tr>\n  </tbody>\n</table>\n</div>"
     },
     "execution_count": 25,
     "metadata": {},
     "output_type": "execute_result"
    }
   ],
   "source": [
    "top_250_tracks.head()"
   ],
   "metadata": {
    "collapsed": false
   }
  },
  {
   "cell_type": "code",
   "execution_count": 27,
   "outputs": [],
   "source": [
    "cols_order = ['id', 'artist', 'title', 'play_count']\n",
    "top_250_tracks = top_250_tracks[cols_order]"
   ],
   "metadata": {
    "collapsed": false
   }
  },
  {
   "cell_type": "code",
   "execution_count": 28,
   "outputs": [
    {
     "data": {
      "text/plain": "   id                                             artist  \\\n0   0                                      Dwight Yoakam   \n1   1                                              Björk   \n2   2                                      Kings Of Leon   \n3   3                                           Harmonia   \n4   4  Barry Tuckwell/Academy of St Martin-in-the-Fie...   \n\n                                               title  play_count  \n0                                     You're The One      726885  \n1                                               Undo      648239  \n2                                            Revelry      527893  \n3                                      Sehr kosmisch      425463  \n4  Horn Concerto No. 4 in E flat K495: II. Romanc...      389880  ",
      "text/html": "<div>\n<style scoped>\n    .dataframe tbody tr th:only-of-type {\n        vertical-align: middle;\n    }\n\n    .dataframe tbody tr th {\n        vertical-align: top;\n    }\n\n    .dataframe thead th {\n        text-align: right;\n    }\n</style>\n<table border=\"1\" class=\"dataframe\">\n  <thead>\n    <tr style=\"text-align: right;\">\n      <th></th>\n      <th>id</th>\n      <th>artist</th>\n      <th>title</th>\n      <th>play_count</th>\n    </tr>\n  </thead>\n  <tbody>\n    <tr>\n      <th>0</th>\n      <td>0</td>\n      <td>Dwight Yoakam</td>\n      <td>You're The One</td>\n      <td>726885</td>\n    </tr>\n    <tr>\n      <th>1</th>\n      <td>1</td>\n      <td>Björk</td>\n      <td>Undo</td>\n      <td>648239</td>\n    </tr>\n    <tr>\n      <th>2</th>\n      <td>2</td>\n      <td>Kings Of Leon</td>\n      <td>Revelry</td>\n      <td>527893</td>\n    </tr>\n    <tr>\n      <th>3</th>\n      <td>3</td>\n      <td>Harmonia</td>\n      <td>Sehr kosmisch</td>\n      <td>425463</td>\n    </tr>\n    <tr>\n      <th>4</th>\n      <td>4</td>\n      <td>Barry Tuckwell/Academy of St Martin-in-the-Fie...</td>\n      <td>Horn Concerto No. 4 in E flat K495: II. Romanc...</td>\n      <td>389880</td>\n    </tr>\n  </tbody>\n</table>\n</div>"
     },
     "execution_count": 28,
     "metadata": {},
     "output_type": "execute_result"
    }
   ],
   "source": [
    "top_250_tracks.head()"
   ],
   "metadata": {
    "collapsed": false
   }
  },
  {
   "cell_type": "code",
   "execution_count": 29,
   "outputs": [],
   "source": [
    "top_250_tracks.to_csv('top_250_tracks.csv', index=False)"
   ],
   "metadata": {
    "collapsed": false
   }
  },
  {
   "cell_type": "markdown",
   "source": [
    "# Top-100 tracks by genre"
   ],
   "metadata": {
    "collapsed": false
   }
  },
  {
   "cell_type": "markdown",
   "source": [
    "It should return on a given genre a dataframe with the following fields: index number, artist name, track title, play count. The table should be sorted by the play count descendingly. You should only use the major genre to perform the subtask."
   ],
   "metadata": {
    "collapsed": false
   }
  },
  {
   "cell_type": "code",
   "execution_count": 33,
   "outputs": [],
   "source": [
    "genres = pd.read_csv(MSD_TAGTRAUM_FILE_PATH,\n",
    "                     sep='\\t',\n",
    "                     names=('track_id', 'majority-genre', 'minority-genre'),\n",
    "                     comment='#')"
   ],
   "metadata": {
    "collapsed": false
   }
  },
  {
   "cell_type": "code",
   "execution_count": 37,
   "outputs": [
    {
     "data": {
      "text/plain": "             track_id majority-genre minority-genre\n0  TRAAAAK128F9318786           Rock            NaN\n1  TRAAAAW128F429D538            Rap            NaN\n2  TRAAABD128F429CF47           Rock            RnB\n3  TRAAADJ128F4287B47           Rock            NaN\n4  TRAAADZ128F9348C2E          Latin            NaN",
      "text/html": "<div>\n<style scoped>\n    .dataframe tbody tr th:only-of-type {\n        vertical-align: middle;\n    }\n\n    .dataframe tbody tr th {\n        vertical-align: top;\n    }\n\n    .dataframe thead th {\n        text-align: right;\n    }\n</style>\n<table border=\"1\" class=\"dataframe\">\n  <thead>\n    <tr style=\"text-align: right;\">\n      <th></th>\n      <th>track_id</th>\n      <th>majority-genre</th>\n      <th>minority-genre</th>\n    </tr>\n  </thead>\n  <tbody>\n    <tr>\n      <th>0</th>\n      <td>TRAAAAK128F9318786</td>\n      <td>Rock</td>\n      <td>NaN</td>\n    </tr>\n    <tr>\n      <th>1</th>\n      <td>TRAAAAW128F429D538</td>\n      <td>Rap</td>\n      <td>NaN</td>\n    </tr>\n    <tr>\n      <th>2</th>\n      <td>TRAAABD128F429CF47</td>\n      <td>Rock</td>\n      <td>RnB</td>\n    </tr>\n    <tr>\n      <th>3</th>\n      <td>TRAAADJ128F4287B47</td>\n      <td>Rock</td>\n      <td>NaN</td>\n    </tr>\n    <tr>\n      <th>4</th>\n      <td>TRAAADZ128F9348C2E</td>\n      <td>Latin</td>\n      <td>NaN</td>\n    </tr>\n  </tbody>\n</table>\n</div>"
     },
     "execution_count": 37,
     "metadata": {},
     "output_type": "execute_result"
    }
   ],
   "source": [
    "genres.head()"
   ],
   "metadata": {
    "collapsed": false
   }
  },
  {
   "cell_type": "code",
   "execution_count": 35,
   "outputs": [],
   "source": [
    "genres_tracks = pd.merge(genres, unique_tracks)"
   ],
   "metadata": {
    "collapsed": false
   }
  },
  {
   "cell_type": "code",
   "execution_count": 38,
   "outputs": [
    {
     "data": {
      "text/plain": "             track_id majority-genre minority-genre             song_id  \\\n0  TRAAAAK128F9318786           Rock            NaN  SOBLFFE12AF72AA5BA   \n1  TRAAAAW128F429D538            Rap            NaN  SOMZWCG12A8C13C480   \n2  TRAAABD128F429CF47           Rock            RnB  SOCIWDW12A8C13D406   \n3  TRAAADJ128F4287B47           Rock            NaN  SOCSNVI12A8C13ECC2   \n4  TRAAADZ128F9348C2E          Latin            NaN  SOXVLOJ12AB0189215   \n\n                              artist             title  \n0                       Adelitas Way            Scream  \n1                             Casual  I Didn't Mean To  \n2                       The Box Tops         Soul Deep  \n3  Big Brother & The Holding Company  Heartache People  \n4                   Sonora Santanera   Amor De Cabaret  ",
      "text/html": "<div>\n<style scoped>\n    .dataframe tbody tr th:only-of-type {\n        vertical-align: middle;\n    }\n\n    .dataframe tbody tr th {\n        vertical-align: top;\n    }\n\n    .dataframe thead th {\n        text-align: right;\n    }\n</style>\n<table border=\"1\" class=\"dataframe\">\n  <thead>\n    <tr style=\"text-align: right;\">\n      <th></th>\n      <th>track_id</th>\n      <th>majority-genre</th>\n      <th>minority-genre</th>\n      <th>song_id</th>\n      <th>artist</th>\n      <th>title</th>\n    </tr>\n  </thead>\n  <tbody>\n    <tr>\n      <th>0</th>\n      <td>TRAAAAK128F9318786</td>\n      <td>Rock</td>\n      <td>NaN</td>\n      <td>SOBLFFE12AF72AA5BA</td>\n      <td>Adelitas Way</td>\n      <td>Scream</td>\n    </tr>\n    <tr>\n      <th>1</th>\n      <td>TRAAAAW128F429D538</td>\n      <td>Rap</td>\n      <td>NaN</td>\n      <td>SOMZWCG12A8C13C480</td>\n      <td>Casual</td>\n      <td>I Didn't Mean To</td>\n    </tr>\n    <tr>\n      <th>2</th>\n      <td>TRAAABD128F429CF47</td>\n      <td>Rock</td>\n      <td>RnB</td>\n      <td>SOCIWDW12A8C13D406</td>\n      <td>The Box Tops</td>\n      <td>Soul Deep</td>\n    </tr>\n    <tr>\n      <th>3</th>\n      <td>TRAAADJ128F4287B47</td>\n      <td>Rock</td>\n      <td>NaN</td>\n      <td>SOCSNVI12A8C13ECC2</td>\n      <td>Big Brother &amp; The Holding Company</td>\n      <td>Heartache People</td>\n    </tr>\n    <tr>\n      <th>4</th>\n      <td>TRAAADZ128F9348C2E</td>\n      <td>Latin</td>\n      <td>NaN</td>\n      <td>SOXVLOJ12AB0189215</td>\n      <td>Sonora Santanera</td>\n      <td>Amor De Cabaret</td>\n    </tr>\n  </tbody>\n</table>\n</div>"
     },
     "execution_count": 38,
     "metadata": {},
     "output_type": "execute_result"
    }
   ],
   "source": [
    "genres_tracks.head()"
   ],
   "metadata": {
    "collapsed": false
   }
  },
  {
   "cell_type": "code",
   "execution_count": null,
   "outputs": [],
   "source": [],
   "metadata": {
    "collapsed": false
   }
  }
 ],
 "metadata": {
  "kernelspec": {
   "display_name": "Python 3",
   "language": "python",
   "name": "python3"
  },
  "language_info": {
   "codemirror_mode": {
    "name": "ipython",
    "version": 2
   },
   "file_extension": ".py",
   "mimetype": "text/x-python",
   "name": "python",
   "nbconvert_exporter": "python",
   "pygments_lexer": "ipython2",
   "version": "2.7.6"
  }
 },
 "nbformat": 4,
 "nbformat_minor": 0
}
