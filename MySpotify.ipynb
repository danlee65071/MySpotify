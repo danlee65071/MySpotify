{
 "cells": [
  {
   "cell_type": "markdown",
   "source": [
    "# Import libraries"
   ],
   "metadata": {
    "collapsed": false
   }
  },
  {
   "cell_type": "code",
   "execution_count": 1,
   "outputs": [],
   "source": [
    "import numpy as np\n",
    "import pandas as pd\n",
    "\n",
    "from tqdm.auto import tqdm\n",
    "\n",
    "import os\n",
    "\n",
    "tqdm.pandas()"
   ],
   "metadata": {
    "collapsed": false
   }
  },
  {
   "cell_type": "markdown",
   "source": [
    "# Global variables"
   ],
   "metadata": {
    "collapsed": false
   }
  },
  {
   "cell_type": "code",
   "execution_count": 2,
   "outputs": [],
   "source": [
    "DATA_DIR = 'data'\n",
    "\n",
    "UNIQUE_TRACKS_DATA_FILE_NAME = 'p02_unique_tracks.txt'\n",
    "UNIQUE_TRACKS_DATA_FILE_PATH = os.path.join(DATA_DIR,\n",
    "                                            UNIQUE_TRACKS_DATA_FILE_NAME)\n",
    "\n",
    "\n",
    "TRIPLETS_DATA_FILE_NAME = 'train_triplets.txt'\n",
    "TRIPLETS_DATA_FILE_PATH = os.path.join(DATA_DIR,\n",
    "                                       TRIPLETS_DATA_FILE_NAME)\n",
    "\n",
    "\n",
    "MSD_TAGTRAUM_FILE_NAME = 'p02_msd_tagtraum_cd2.cls'\n",
    "MSD_TAGTRAUM_FILE_PATH = os.path.join(DATA_DIR,\n",
    "                                      MSD_TAGTRAUM_FILE_NAME)"
   ],
   "metadata": {
    "collapsed": false
   }
  },
  {
   "cell_type": "markdown",
   "source": [
    "# Top-250 tracks"
   ],
   "metadata": {
    "collapsed": false
   }
  },
  {
   "cell_type": "markdown",
   "source": [
    "It should return a dataframe with the following fields: index number, artist name, track title, play count. The table should be sorted by\n",
    "the play count descendingly."
   ],
   "metadata": {
    "collapsed": false
   }
  },
  {
   "cell_type": "code",
   "execution_count": 3,
   "outputs": [
    {
     "data": {
      "text/plain": "             track_id             song_id            artist              title\n0  TRMMMYQ128F932D901  SOQMMHC12AB0180CB8  Faster Pussy cat       Silent Night\n1  TRMMMKD128F425225D  SOVFVAK12A8C1350D9  Karkkiautomaatti        Tanssi vaan\n2  TRMMMRX128F93187D9  SOGTUKN12AB017F4F1    Hudson Mohawke  No One Could Ever\n3  TRMMMCH128F425532C  SOBNYVR12A8C13558C       Yerba Brava      Si Vos Querés\n4  TRMMMWA128F426B589  SOHSBXH12A8C13B0DF        Der Mystic   Tangle Of Aspens",
      "text/html": "<div>\n<style scoped>\n    .dataframe tbody tr th:only-of-type {\n        vertical-align: middle;\n    }\n\n    .dataframe tbody tr th {\n        vertical-align: top;\n    }\n\n    .dataframe thead th {\n        text-align: right;\n    }\n</style>\n<table border=\"1\" class=\"dataframe\">\n  <thead>\n    <tr style=\"text-align: right;\">\n      <th></th>\n      <th>track_id</th>\n      <th>song_id</th>\n      <th>artist</th>\n      <th>title</th>\n    </tr>\n  </thead>\n  <tbody>\n    <tr>\n      <th>0</th>\n      <td>TRMMMYQ128F932D901</td>\n      <td>SOQMMHC12AB0180CB8</td>\n      <td>Faster Pussy cat</td>\n      <td>Silent Night</td>\n    </tr>\n    <tr>\n      <th>1</th>\n      <td>TRMMMKD128F425225D</td>\n      <td>SOVFVAK12A8C1350D9</td>\n      <td>Karkkiautomaatti</td>\n      <td>Tanssi vaan</td>\n    </tr>\n    <tr>\n      <th>2</th>\n      <td>TRMMMRX128F93187D9</td>\n      <td>SOGTUKN12AB017F4F1</td>\n      <td>Hudson Mohawke</td>\n      <td>No One Could Ever</td>\n    </tr>\n    <tr>\n      <th>3</th>\n      <td>TRMMMCH128F425532C</td>\n      <td>SOBNYVR12A8C13558C</td>\n      <td>Yerba Brava</td>\n      <td>Si Vos Querés</td>\n    </tr>\n    <tr>\n      <th>4</th>\n      <td>TRMMMWA128F426B589</td>\n      <td>SOHSBXH12A8C13B0DF</td>\n      <td>Der Mystic</td>\n      <td>Tangle Of Aspens</td>\n    </tr>\n  </tbody>\n</table>\n</div>"
     },
     "execution_count": 3,
     "metadata": {},
     "output_type": "execute_result"
    }
   ],
   "source": [
    "unique_tracks = pd.read_csv(UNIQUE_TRACKS_DATA_FILE_PATH,\n",
    "                            sep='<SEP>',\n",
    "                            names=('track_id', 'song_id', 'artist', 'title'),\n",
    "                            engine='python')\n",
    "unique_tracks.head()"
   ],
   "metadata": {
    "collapsed": false
   }
  },
  {
   "cell_type": "code",
   "execution_count": 4,
   "outputs": [
    {
     "data": {
      "text/plain": "(1000000, 4)"
     },
     "execution_count": 4,
     "metadata": {},
     "output_type": "execute_result"
    }
   ],
   "source": [
    "unique_tracks.shape"
   ],
   "metadata": {
    "collapsed": false
   }
  },
  {
   "cell_type": "code",
   "execution_count": 6,
   "outputs": [
    {
     "data": {
      "text/plain": "                                    user_id             song_id  play_count\n0  b80344d063b5ccb3212f76538f3d9e43d87dca9e  SOAKIMP12A8C130995           1\n1  b80344d063b5ccb3212f76538f3d9e43d87dca9e  SOAPDEY12A81C210A9           1\n2  b80344d063b5ccb3212f76538f3d9e43d87dca9e  SOBBMDR12A8C13253B           2\n3  b80344d063b5ccb3212f76538f3d9e43d87dca9e  SOBFNSP12AF72A0E22           1\n4  b80344d063b5ccb3212f76538f3d9e43d87dca9e  SOBFOVM12A58A7D494           1",
      "text/html": "<div>\n<style scoped>\n    .dataframe tbody tr th:only-of-type {\n        vertical-align: middle;\n    }\n\n    .dataframe tbody tr th {\n        vertical-align: top;\n    }\n\n    .dataframe thead th {\n        text-align: right;\n    }\n</style>\n<table border=\"1\" class=\"dataframe\">\n  <thead>\n    <tr style=\"text-align: right;\">\n      <th></th>\n      <th>user_id</th>\n      <th>song_id</th>\n      <th>play_count</th>\n    </tr>\n  </thead>\n  <tbody>\n    <tr>\n      <th>0</th>\n      <td>b80344d063b5ccb3212f76538f3d9e43d87dca9e</td>\n      <td>SOAKIMP12A8C130995</td>\n      <td>1</td>\n    </tr>\n    <tr>\n      <th>1</th>\n      <td>b80344d063b5ccb3212f76538f3d9e43d87dca9e</td>\n      <td>SOAPDEY12A81C210A9</td>\n      <td>1</td>\n    </tr>\n    <tr>\n      <th>2</th>\n      <td>b80344d063b5ccb3212f76538f3d9e43d87dca9e</td>\n      <td>SOBBMDR12A8C13253B</td>\n      <td>2</td>\n    </tr>\n    <tr>\n      <th>3</th>\n      <td>b80344d063b5ccb3212f76538f3d9e43d87dca9e</td>\n      <td>SOBFNSP12AF72A0E22</td>\n      <td>1</td>\n    </tr>\n    <tr>\n      <th>4</th>\n      <td>b80344d063b5ccb3212f76538f3d9e43d87dca9e</td>\n      <td>SOBFOVM12A58A7D494</td>\n      <td>1</td>\n    </tr>\n  </tbody>\n</table>\n</div>"
     },
     "execution_count": 6,
     "metadata": {},
     "output_type": "execute_result"
    }
   ],
   "source": [
    "triplets = pd.read_csv(TRIPLETS_DATA_FILE_PATH,\n",
    "                       sep='\\t',\n",
    "                       names=('user_id', 'song_id', 'play_count'),\n",
    "                       engine='python')\n",
    "triplets.head()"
   ],
   "metadata": {
    "collapsed": false
   }
  },
  {
   "cell_type": "code",
   "execution_count": 7,
   "outputs": [
    {
     "data": {
      "text/plain": "(48373586, 3)"
     },
     "execution_count": 7,
     "metadata": {},
     "output_type": "execute_result"
    }
   ],
   "source": [
    "triplets.shape"
   ],
   "metadata": {
    "collapsed": false
   }
  },
  {
   "cell_type": "code",
   "execution_count": 11,
   "outputs": [],
   "source": [
    "top_250_tracks = triplets.groupby(by=['song_id']).sum()"
   ],
   "metadata": {
    "collapsed": false
   }
  },
  {
   "cell_type": "code",
   "execution_count": 13,
   "outputs": [
    {
     "data": {
      "text/plain": "song_id\nSOAAADD12AB018A9DD     24\nSOAAADE12A6D4F80CC     12\nSOAAADF12A8C13DF62      9\nSOAAADZ12A8C1334FB     12\nSOAAAFI12A6D4F9C66    188\n                     ... \nSOZZZRJ12AB0187A75     16\nSOZZZRV12A8C1361F1     75\nSOZZZSR12AB01854CD      5\nSOZZZWD12A6D4F6624      3\nSOZZZWN12AF72A1E29     98\nName: play_count, Length: 384546, dtype: int64"
     },
     "execution_count": 13,
     "metadata": {},
     "output_type": "execute_result"
    }
   ],
   "source": [
    "top_250_tracks = top_250_tracks.sort_values(by=['play_count'], ascending=False).head(250)"
   ],
   "metadata": {
    "collapsed": false
   }
  },
  {
   "cell_type": "code",
   "execution_count": 15,
   "outputs": [],
   "source": [
    "top_250_tracks = top_250_tracks.reset_index()\n",
    "top_250_tracks.head()"
   ],
   "metadata": {
    "collapsed": false
   }
  },
  {
   "cell_type": "code",
   "execution_count": 16,
   "outputs": [
    {
     "data": {
      "text/plain": "              song_id  play_count\n0  SOBONKR12A58A7A7E0      726885\n1  SOAUWYT12A81C206F1      648239\n2  SOSXLTC12AF72A7F54      527893\n3  SOFRQTD12A81C233C0      425463\n4  SOEGIYH12A6D4FC0E3      389880",
      "text/html": "<div>\n<style scoped>\n    .dataframe tbody tr th:only-of-type {\n        vertical-align: middle;\n    }\n\n    .dataframe tbody tr th {\n        vertical-align: top;\n    }\n\n    .dataframe thead th {\n        text-align: right;\n    }\n</style>\n<table border=\"1\" class=\"dataframe\">\n  <thead>\n    <tr style=\"text-align: right;\">\n      <th></th>\n      <th>song_id</th>\n      <th>play_count</th>\n    </tr>\n  </thead>\n  <tbody>\n    <tr>\n      <th>0</th>\n      <td>SOBONKR12A58A7A7E0</td>\n      <td>726885</td>\n    </tr>\n    <tr>\n      <th>1</th>\n      <td>SOAUWYT12A81C206F1</td>\n      <td>648239</td>\n    </tr>\n    <tr>\n      <th>2</th>\n      <td>SOSXLTC12AF72A7F54</td>\n      <td>527893</td>\n    </tr>\n    <tr>\n      <th>3</th>\n      <td>SOFRQTD12A81C233C0</td>\n      <td>425463</td>\n    </tr>\n    <tr>\n      <th>4</th>\n      <td>SOEGIYH12A6D4FC0E3</td>\n      <td>389880</td>\n    </tr>\n  </tbody>\n</table>\n</div>"
     },
     "execution_count": 16,
     "metadata": {},
     "output_type": "execute_result"
    }
   ],
   "source": [
    "artists = [unique_tracks[unique_tracks['song_id'] == track[0]]['artist'].values[0]\n",
    "           for track in tqdm(top_250_tracks.values)]"
   ],
   "metadata": {
    "collapsed": false
   }
  },
  {
   "cell_type": "code",
   "execution_count": 17,
   "outputs": [
    {
     "data": {
      "text/plain": "  0%|          | 0/250 [00:00<?, ?it/s]",
      "application/vnd.jupyter.widget-view+json": {
       "version_major": 2,
       "version_minor": 0,
       "model_id": "ebd43c399e8d4190a4a56c94ec9f0839"
      }
     },
     "metadata": {},
     "output_type": "display_data"
    }
   ],
   "source": [
    "artists[:5]"
   ],
   "metadata": {
    "collapsed": false
   }
  },
  {
   "cell_type": "code",
   "execution_count": 18,
   "outputs": [
    {
     "data": {
      "text/plain": "['Dwight Yoakam',\n 'Björk',\n 'Kings Of Leon',\n 'Harmonia',\n 'Barry Tuckwell/Academy of St Martin-in-the-Fields/Sir Neville Marriner']"
     },
     "execution_count": 18,
     "metadata": {},
     "output_type": "execute_result"
    }
   ],
   "source": [
    "titles = [unique_tracks[unique_tracks['song_id'] == track[1]]['title'].values[0]\n",
    "           for track in tqdm(top_250_tracks.values)]"
   ],
   "metadata": {
    "collapsed": false
   }
  },
  {
   "cell_type": "code",
   "execution_count": 20,
   "outputs": [
    {
     "data": {
      "text/plain": "  0%|          | 0/250 [00:00<?, ?it/s]",
      "application/vnd.jupyter.widget-view+json": {
       "version_major": 2,
       "version_minor": 0,
       "model_id": "6a81cb8a70c148f198dfeef74f7dc383"
      }
     },
     "metadata": {},
     "output_type": "display_data"
    }
   ],
   "source": [
    "titles[:5]"
   ],
   "metadata": {
    "collapsed": false
   }
  },
  {
   "cell_type": "code",
   "execution_count": 21,
   "outputs": [
    {
     "data": {
      "text/plain": "[\"You're The One\",\n 'Undo',\n 'Revelry',\n 'Sehr kosmisch',\n 'Horn Concerto No. 4 in E flat K495: II. Romance (Andante cantabile)']"
     },
     "execution_count": 21,
     "metadata": {},
     "output_type": "execute_result"
    }
   ],
   "source": [
    "top_250_tracks['artist'] = artists\n",
    "top_250_tracks['title'] = titles\n",
    "top_250_tracks['id'] = [id for id in range(top_250_tracks.shape[0])]"
   ],
   "metadata": {
    "collapsed": false
   }
  },
  {
   "cell_type": "code",
   "execution_count": 22,
   "outputs": [],
   "source": [
    "top_250_tracks.head()"
   ],
   "metadata": {
    "collapsed": false
   }
  },
  {
   "cell_type": "code",
   "execution_count": 23,
   "outputs": [
    {
     "data": {
      "text/plain": "              song_id  play_count  \\\n0  SOBONKR12A58A7A7E0      726885   \n1  SOAUWYT12A81C206F1      648239   \n2  SOSXLTC12AF72A7F54      527893   \n3  SOFRQTD12A81C233C0      425463   \n4  SOEGIYH12A6D4FC0E3      389880   \n\n                                              artist  \\\n0                                      Dwight Yoakam   \n1                                              Björk   \n2                                      Kings Of Leon   \n3                                           Harmonia   \n4  Barry Tuckwell/Academy of St Martin-in-the-Fie...   \n\n                                               title  id  \n0                                     You're The One   0  \n1                                               Undo   1  \n2                                            Revelry   2  \n3                                      Sehr kosmisch   3  \n4  Horn Concerto No. 4 in E flat K495: II. Romanc...   4  ",
      "text/html": "<div>\n<style scoped>\n    .dataframe tbody tr th:only-of-type {\n        vertical-align: middle;\n    }\n\n    .dataframe tbody tr th {\n        vertical-align: top;\n    }\n\n    .dataframe thead th {\n        text-align: right;\n    }\n</style>\n<table border=\"1\" class=\"dataframe\">\n  <thead>\n    <tr style=\"text-align: right;\">\n      <th></th>\n      <th>song_id</th>\n      <th>play_count</th>\n      <th>artist</th>\n      <th>title</th>\n      <th>id</th>\n    </tr>\n  </thead>\n  <tbody>\n    <tr>\n      <th>0</th>\n      <td>SOBONKR12A58A7A7E0</td>\n      <td>726885</td>\n      <td>Dwight Yoakam</td>\n      <td>You're The One</td>\n      <td>0</td>\n    </tr>\n    <tr>\n      <th>1</th>\n      <td>SOAUWYT12A81C206F1</td>\n      <td>648239</td>\n      <td>Björk</td>\n      <td>Undo</td>\n      <td>1</td>\n    </tr>\n    <tr>\n      <th>2</th>\n      <td>SOSXLTC12AF72A7F54</td>\n      <td>527893</td>\n      <td>Kings Of Leon</td>\n      <td>Revelry</td>\n      <td>2</td>\n    </tr>\n    <tr>\n      <th>3</th>\n      <td>SOFRQTD12A81C233C0</td>\n      <td>425463</td>\n      <td>Harmonia</td>\n      <td>Sehr kosmisch</td>\n      <td>3</td>\n    </tr>\n    <tr>\n      <th>4</th>\n      <td>SOEGIYH12A6D4FC0E3</td>\n      <td>389880</td>\n      <td>Barry Tuckwell/Academy of St Martin-in-the-Fie...</td>\n      <td>Horn Concerto No. 4 in E flat K495: II. Romanc...</td>\n      <td>4</td>\n    </tr>\n  </tbody>\n</table>\n</div>"
     },
     "execution_count": 23,
     "metadata": {},
     "output_type": "execute_result"
    }
   ],
   "source": [
    "top_250_tracks = top_250_tracks.drop(['user_id', 'song_id'], axis=1)"
   ],
   "metadata": {
    "collapsed": false
   }
  },
  {
   "cell_type": "code",
   "execution_count": 25,
   "outputs": [],
   "source": [
    "top_250_tracks = top_250_tracks.reset_index(drop=True)"
   ],
   "metadata": {
    "collapsed": false
   }
  },
  {
   "cell_type": "code",
   "execution_count": 26,
   "outputs": [
    {
     "data": {
      "text/plain": "              song_id  play_count  \\\n0  SOBONKR12A58A7A7E0      726885   \n1  SOAUWYT12A81C206F1      648239   \n2  SOSXLTC12AF72A7F54      527893   \n3  SOFRQTD12A81C233C0      425463   \n4  SOEGIYH12A6D4FC0E3      389880   \n\n                                              artist  \\\n0                                      Dwight Yoakam   \n1                                              Björk   \n2                                      Kings Of Leon   \n3                                           Harmonia   \n4  Barry Tuckwell/Academy of St Martin-in-the-Fie...   \n\n                                               title  id  \n0                                     You're The One   0  \n1                                               Undo   1  \n2                                            Revelry   2  \n3                                      Sehr kosmisch   3  \n4  Horn Concerto No. 4 in E flat K495: II. Romanc...   4  ",
      "text/html": "<div>\n<style scoped>\n    .dataframe tbody tr th:only-of-type {\n        vertical-align: middle;\n    }\n\n    .dataframe tbody tr th {\n        vertical-align: top;\n    }\n\n    .dataframe thead th {\n        text-align: right;\n    }\n</style>\n<table border=\"1\" class=\"dataframe\">\n  <thead>\n    <tr style=\"text-align: right;\">\n      <th></th>\n      <th>song_id</th>\n      <th>play_count</th>\n      <th>artist</th>\n      <th>title</th>\n      <th>id</th>\n    </tr>\n  </thead>\n  <tbody>\n    <tr>\n      <th>0</th>\n      <td>SOBONKR12A58A7A7E0</td>\n      <td>726885</td>\n      <td>Dwight Yoakam</td>\n      <td>You're The One</td>\n      <td>0</td>\n    </tr>\n    <tr>\n      <th>1</th>\n      <td>SOAUWYT12A81C206F1</td>\n      <td>648239</td>\n      <td>Björk</td>\n      <td>Undo</td>\n      <td>1</td>\n    </tr>\n    <tr>\n      <th>2</th>\n      <td>SOSXLTC12AF72A7F54</td>\n      <td>527893</td>\n      <td>Kings Of Leon</td>\n      <td>Revelry</td>\n      <td>2</td>\n    </tr>\n    <tr>\n      <th>3</th>\n      <td>SOFRQTD12A81C233C0</td>\n      <td>425463</td>\n      <td>Harmonia</td>\n      <td>Sehr kosmisch</td>\n      <td>3</td>\n    </tr>\n    <tr>\n      <th>4</th>\n      <td>SOEGIYH12A6D4FC0E3</td>\n      <td>389880</td>\n      <td>Barry Tuckwell/Academy of St Martin-in-the-Fie...</td>\n      <td>Horn Concerto No. 4 in E flat K495: II. Romanc...</td>\n      <td>4</td>\n    </tr>\n  </tbody>\n</table>\n</div>"
     },
     "execution_count": 26,
     "metadata": {},
     "output_type": "execute_result"
    }
   ],
   "source": [
    "top_250_tracks.head()"
   ],
   "metadata": {
    "collapsed": false
   }
  },
  {
   "cell_type": "code",
   "execution_count": 27,
   "outputs": [],
   "source": [
    "cols_order = ['id', 'artist', 'title', 'play_count']\n",
    "top_250_tracks = top_250_tracks[cols_order]"
   ],
   "metadata": {
    "collapsed": false
   }
  },
  {
   "cell_type": "code",
   "execution_count": 28,
   "outputs": [
    {
     "data": {
      "text/plain": "   id                                             artist  \\\n0   0                                      Dwight Yoakam   \n1   1                                              Björk   \n2   2                                      Kings Of Leon   \n3   3                                           Harmonia   \n4   4  Barry Tuckwell/Academy of St Martin-in-the-Fie...   \n\n                                               title  play_count  \n0                                     You're The One      726885  \n1                                               Undo      648239  \n2                                            Revelry      527893  \n3                                      Sehr kosmisch      425463  \n4  Horn Concerto No. 4 in E flat K495: II. Romanc...      389880  ",
      "text/html": "<div>\n<style scoped>\n    .dataframe tbody tr th:only-of-type {\n        vertical-align: middle;\n    }\n\n    .dataframe tbody tr th {\n        vertical-align: top;\n    }\n\n    .dataframe thead th {\n        text-align: right;\n    }\n</style>\n<table border=\"1\" class=\"dataframe\">\n  <thead>\n    <tr style=\"text-align: right;\">\n      <th></th>\n      <th>id</th>\n      <th>artist</th>\n      <th>title</th>\n      <th>play_count</th>\n    </tr>\n  </thead>\n  <tbody>\n    <tr>\n      <th>0</th>\n      <td>0</td>\n      <td>Dwight Yoakam</td>\n      <td>You're The One</td>\n      <td>726885</td>\n    </tr>\n    <tr>\n      <th>1</th>\n      <td>1</td>\n      <td>Björk</td>\n      <td>Undo</td>\n      <td>648239</td>\n    </tr>\n    <tr>\n      <th>2</th>\n      <td>2</td>\n      <td>Kings Of Leon</td>\n      <td>Revelry</td>\n      <td>527893</td>\n    </tr>\n    <tr>\n      <th>3</th>\n      <td>3</td>\n      <td>Harmonia</td>\n      <td>Sehr kosmisch</td>\n      <td>425463</td>\n    </tr>\n    <tr>\n      <th>4</th>\n      <td>4</td>\n      <td>Barry Tuckwell/Academy of St Martin-in-the-Fie...</td>\n      <td>Horn Concerto No. 4 in E flat K495: II. Romanc...</td>\n      <td>389880</td>\n    </tr>\n  </tbody>\n</table>\n</div>"
     },
     "execution_count": 28,
     "metadata": {},
     "output_type": "execute_result"
    }
   ],
   "source": [
    "top_250_tracks.head()"
   ],
   "metadata": {
    "collapsed": false
   }
  },
  {
   "cell_type": "code",
   "execution_count": 29,
   "outputs": [],
   "source": [
    "top_250_tracks.to_csv('top_250_tracks.csv', index=False)"
   ],
   "metadata": {
    "collapsed": false
   }
  },
  {
   "cell_type": "markdown",
   "source": [
    "# Top-100 tracks by genre"
   ],
   "metadata": {
    "collapsed": false
   }
  },
  {
   "cell_type": "markdown",
   "source": [
    "It should return on a given genre a dataframe with the following fields: index number, artist name, track title, play count. The table should be sorted by the play count descendingly. You should only use the major genre to perform the subtask."
   ],
   "metadata": {
    "collapsed": false
   }
  },
  {
   "cell_type": "code",
   "execution_count": 59,
   "outputs": [],
   "source": [
    "genres = pd.read_csv(MSD_TAGTRAUM_FILE_PATH,\n",
    "                     sep='\\t',\n",
    "                     names=('trackId', 'majority-genre', 'minority-genre'),\n",
    "                     comment='#')"
   ],
   "metadata": {
    "collapsed": false
   }
  },
  {
   "cell_type": "code",
   "execution_count": 60,
   "outputs": [
    {
     "data": {
      "text/plain": "              trackId majority-genre minority-genre\n0  TRAAAAK128F9318786           Rock            NaN\n1  TRAAAAW128F429D538            Rap            NaN\n2  TRAAABD128F429CF47           Rock            RnB\n3  TRAAADJ128F4287B47           Rock            NaN\n4  TRAAADZ128F9348C2E          Latin            NaN",
      "text/html": "<div>\n<style scoped>\n    .dataframe tbody tr th:only-of-type {\n        vertical-align: middle;\n    }\n\n    .dataframe tbody tr th {\n        vertical-align: top;\n    }\n\n    .dataframe thead th {\n        text-align: right;\n    }\n</style>\n<table border=\"1\" class=\"dataframe\">\n  <thead>\n    <tr style=\"text-align: right;\">\n      <th></th>\n      <th>trackId</th>\n      <th>majority-genre</th>\n      <th>minority-genre</th>\n    </tr>\n  </thead>\n  <tbody>\n    <tr>\n      <th>0</th>\n      <td>TRAAAAK128F9318786</td>\n      <td>Rock</td>\n      <td>NaN</td>\n    </tr>\n    <tr>\n      <th>1</th>\n      <td>TRAAAAW128F429D538</td>\n      <td>Rap</td>\n      <td>NaN</td>\n    </tr>\n    <tr>\n      <th>2</th>\n      <td>TRAAABD128F429CF47</td>\n      <td>Rock</td>\n      <td>RnB</td>\n    </tr>\n    <tr>\n      <th>3</th>\n      <td>TRAAADJ128F4287B47</td>\n      <td>Rock</td>\n      <td>NaN</td>\n    </tr>\n    <tr>\n      <th>4</th>\n      <td>TRAAADZ128F9348C2E</td>\n      <td>Latin</td>\n      <td>NaN</td>\n    </tr>\n  </tbody>\n</table>\n</div>"
     },
     "execution_count": 60,
     "metadata": {},
     "output_type": "execute_result"
    }
   ],
   "source": [
    "genres.head()"
   ],
   "metadata": {
    "collapsed": false
   }
  },
  {
   "cell_type": "code",
   "execution_count": 70,
   "outputs": [],
   "source": [
    "genres_tracks = pd.merge(genres, unique_tracks)"
   ],
   "metadata": {
    "collapsed": false
   }
  },
  {
   "cell_type": "code",
   "execution_count": 71,
   "outputs": [
    {
     "data": {
      "text/plain": "             track_id majority-genre minority-genre             song_id  \\\n0  TRAAAAK128F9318786           Rock            NaN  SOBLFFE12AF72AA5BA   \n1  TRAAAAW128F429D538            Rap            NaN  SOMZWCG12A8C13C480   \n2  TRAAABD128F429CF47           Rock            RnB  SOCIWDW12A8C13D406   \n3  TRAAADJ128F4287B47           Rock            NaN  SOCSNVI12A8C13ECC2   \n4  TRAAADZ128F9348C2E          Latin            NaN  SOXVLOJ12AB0189215   \n\n                              artist             title  \n0                       Adelitas Way            Scream  \n1                             Casual  I Didn't Mean To  \n2                       The Box Tops         Soul Deep  \n3  Big Brother & The Holding Company  Heartache People  \n4                   Sonora Santanera   Amor De Cabaret  ",
      "text/html": "<div>\n<style scoped>\n    .dataframe tbody tr th:only-of-type {\n        vertical-align: middle;\n    }\n\n    .dataframe tbody tr th {\n        vertical-align: top;\n    }\n\n    .dataframe thead th {\n        text-align: right;\n    }\n</style>\n<table border=\"1\" class=\"dataframe\">\n  <thead>\n    <tr style=\"text-align: right;\">\n      <th></th>\n      <th>track_id</th>\n      <th>majority-genre</th>\n      <th>minority-genre</th>\n      <th>song_id</th>\n      <th>artist</th>\n      <th>title</th>\n    </tr>\n  </thead>\n  <tbody>\n    <tr>\n      <th>0</th>\n      <td>TRAAAAK128F9318786</td>\n      <td>Rock</td>\n      <td>NaN</td>\n      <td>SOBLFFE12AF72AA5BA</td>\n      <td>Adelitas Way</td>\n      <td>Scream</td>\n    </tr>\n    <tr>\n      <th>1</th>\n      <td>TRAAAAW128F429D538</td>\n      <td>Rap</td>\n      <td>NaN</td>\n      <td>SOMZWCG12A8C13C480</td>\n      <td>Casual</td>\n      <td>I Didn't Mean To</td>\n    </tr>\n    <tr>\n      <th>2</th>\n      <td>TRAAABD128F429CF47</td>\n      <td>Rock</td>\n      <td>RnB</td>\n      <td>SOCIWDW12A8C13D406</td>\n      <td>The Box Tops</td>\n      <td>Soul Deep</td>\n    </tr>\n    <tr>\n      <th>3</th>\n      <td>TRAAADJ128F4287B47</td>\n      <td>Rock</td>\n      <td>NaN</td>\n      <td>SOCSNVI12A8C13ECC2</td>\n      <td>Big Brother &amp; The Holding Company</td>\n      <td>Heartache People</td>\n    </tr>\n    <tr>\n      <th>4</th>\n      <td>TRAAADZ128F9348C2E</td>\n      <td>Latin</td>\n      <td>NaN</td>\n      <td>SOXVLOJ12AB0189215</td>\n      <td>Sonora Santanera</td>\n      <td>Amor De Cabaret</td>\n    </tr>\n  </tbody>\n</table>\n</div>"
     },
     "execution_count": 71,
     "metadata": {},
     "output_type": "execute_result"
    }
   ],
   "source": [
    "genres_tracks.head()"
   ],
   "metadata": {
    "collapsed": false
   }
  },
  {
   "cell_type": "code",
   "execution_count": 72,
   "outputs": [
    {
     "ename": "KeyboardInterrupt",
     "evalue": "",
     "output_type": "error",
     "traceback": [
      "\u001B[0;31m---------------------------------------------------------------------------\u001B[0m",
      "\u001B[0;31mKeyboardInterrupt\u001B[0m                         Traceback (most recent call last)",
      "\u001B[0;32m/var/folders/sh/5fkv5ddj06zczqfxsfj04y9c0000gn/T/ipykernel_79072/2666040227.py\u001B[0m in \u001B[0;36m<module>\u001B[0;34m\u001B[0m\n\u001B[0;32m----> 1\u001B[0;31m \u001B[0mgenres_tracks_play_count\u001B[0m \u001B[0;34m=\u001B[0m \u001B[0mpd\u001B[0m\u001B[0;34m.\u001B[0m\u001B[0mmerge\u001B[0m\u001B[0;34m(\u001B[0m\u001B[0mgenres_tracks\u001B[0m\u001B[0;34m,\u001B[0m \u001B[0mtriplets\u001B[0m\u001B[0;34m)\u001B[0m\u001B[0;34m\u001B[0m\u001B[0;34m\u001B[0m\u001B[0m\n\u001B[0m",
      "\u001B[0;32m~/opt/anaconda3/lib/python3.9/site-packages/pandas/core/reshape/merge.py\u001B[0m in \u001B[0;36mmerge\u001B[0;34m(left, right, how, on, left_on, right_on, left_index, right_index, sort, suffixes, copy, indicator, validate)\u001B[0m\n\u001B[1;32m    120\u001B[0m         \u001B[0mvalidate\u001B[0m\u001B[0;34m=\u001B[0m\u001B[0mvalidate\u001B[0m\u001B[0;34m,\u001B[0m\u001B[0;34m\u001B[0m\u001B[0;34m\u001B[0m\u001B[0m\n\u001B[1;32m    121\u001B[0m     )\n\u001B[0;32m--> 122\u001B[0;31m     \u001B[0;32mreturn\u001B[0m \u001B[0mop\u001B[0m\u001B[0;34m.\u001B[0m\u001B[0mget_result\u001B[0m\u001B[0;34m(\u001B[0m\u001B[0;34m)\u001B[0m\u001B[0;34m\u001B[0m\u001B[0;34m\u001B[0m\u001B[0m\n\u001B[0m\u001B[1;32m    123\u001B[0m \u001B[0;34m\u001B[0m\u001B[0m\n\u001B[1;32m    124\u001B[0m \u001B[0;34m\u001B[0m\u001B[0m\n",
      "\u001B[0;32m~/opt/anaconda3/lib/python3.9/site-packages/pandas/core/reshape/merge.py\u001B[0m in \u001B[0;36mget_result\u001B[0;34m(self)\u001B[0m\n\u001B[1;32m    723\u001B[0m         \u001B[0mrindexers\u001B[0m \u001B[0;34m=\u001B[0m \u001B[0;34m{\u001B[0m\u001B[0;36m1\u001B[0m\u001B[0;34m:\u001B[0m \u001B[0mright_indexer\u001B[0m\u001B[0;34m}\u001B[0m \u001B[0;32mif\u001B[0m \u001B[0mright_indexer\u001B[0m \u001B[0;32mis\u001B[0m \u001B[0;32mnot\u001B[0m \u001B[0;32mNone\u001B[0m \u001B[0;32melse\u001B[0m \u001B[0;34m{\u001B[0m\u001B[0;34m}\u001B[0m\u001B[0;34m\u001B[0m\u001B[0;34m\u001B[0m\u001B[0m\n\u001B[1;32m    724\u001B[0m \u001B[0;34m\u001B[0m\u001B[0m\n\u001B[0;32m--> 725\u001B[0;31m         result_data = concatenate_managers(\n\u001B[0m\u001B[1;32m    726\u001B[0m             \u001B[0;34m[\u001B[0m\u001B[0;34m(\u001B[0m\u001B[0mself\u001B[0m\u001B[0;34m.\u001B[0m\u001B[0mleft\u001B[0m\u001B[0;34m.\u001B[0m\u001B[0m_mgr\u001B[0m\u001B[0;34m,\u001B[0m \u001B[0mlindexers\u001B[0m\u001B[0;34m)\u001B[0m\u001B[0;34m,\u001B[0m \u001B[0;34m(\u001B[0m\u001B[0mself\u001B[0m\u001B[0;34m.\u001B[0m\u001B[0mright\u001B[0m\u001B[0;34m.\u001B[0m\u001B[0m_mgr\u001B[0m\u001B[0;34m,\u001B[0m \u001B[0mrindexers\u001B[0m\u001B[0;34m)\u001B[0m\u001B[0;34m]\u001B[0m\u001B[0;34m,\u001B[0m\u001B[0;34m\u001B[0m\u001B[0;34m\u001B[0m\u001B[0m\n\u001B[1;32m    727\u001B[0m             \u001B[0maxes\u001B[0m\u001B[0;34m=\u001B[0m\u001B[0;34m[\u001B[0m\u001B[0mllabels\u001B[0m\u001B[0;34m.\u001B[0m\u001B[0mappend\u001B[0m\u001B[0;34m(\u001B[0m\u001B[0mrlabels\u001B[0m\u001B[0;34m)\u001B[0m\u001B[0;34m,\u001B[0m \u001B[0mjoin_index\u001B[0m\u001B[0;34m]\u001B[0m\u001B[0;34m,\u001B[0m\u001B[0;34m\u001B[0m\u001B[0;34m\u001B[0m\u001B[0m\n",
      "\u001B[0;32m~/opt/anaconda3/lib/python3.9/site-packages/pandas/core/internals/concat.py\u001B[0m in \u001B[0;36mconcatenate_managers\u001B[0;34m(mgrs_indexers, axes, concat_axis, copy)\u001B[0m\n\u001B[1;32m    240\u001B[0m             \u001B[0mfastpath\u001B[0m \u001B[0;34m=\u001B[0m \u001B[0mblk\u001B[0m\u001B[0;34m.\u001B[0m\u001B[0mvalues\u001B[0m\u001B[0;34m.\u001B[0m\u001B[0mdtype\u001B[0m \u001B[0;34m==\u001B[0m \u001B[0mvalues\u001B[0m\u001B[0;34m.\u001B[0m\u001B[0mdtype\u001B[0m\u001B[0;34m\u001B[0m\u001B[0;34m\u001B[0m\u001B[0m\n\u001B[1;32m    241\u001B[0m         \u001B[0;32melse\u001B[0m\u001B[0;34m:\u001B[0m\u001B[0;34m\u001B[0m\u001B[0;34m\u001B[0m\u001B[0m\n\u001B[0;32m--> 242\u001B[0;31m             \u001B[0mvalues\u001B[0m \u001B[0;34m=\u001B[0m \u001B[0m_concatenate_join_units\u001B[0m\u001B[0;34m(\u001B[0m\u001B[0mjoin_units\u001B[0m\u001B[0;34m,\u001B[0m \u001B[0mconcat_axis\u001B[0m\u001B[0;34m,\u001B[0m \u001B[0mcopy\u001B[0m\u001B[0;34m=\u001B[0m\u001B[0mcopy\u001B[0m\u001B[0;34m)\u001B[0m\u001B[0;34m\u001B[0m\u001B[0;34m\u001B[0m\u001B[0m\n\u001B[0m\u001B[1;32m    243\u001B[0m             \u001B[0mfastpath\u001B[0m \u001B[0;34m=\u001B[0m \u001B[0;32mFalse\u001B[0m\u001B[0;34m\u001B[0m\u001B[0;34m\u001B[0m\u001B[0m\n\u001B[1;32m    244\u001B[0m \u001B[0;34m\u001B[0m\u001B[0m\n",
      "\u001B[0;32m~/opt/anaconda3/lib/python3.9/site-packages/pandas/core/internals/concat.py\u001B[0m in \u001B[0;36m_concatenate_join_units\u001B[0;34m(join_units, concat_axis, copy)\u001B[0m\n\u001B[1;32m    548\u001B[0m     \u001B[0mupcasted_na\u001B[0m \u001B[0;34m=\u001B[0m \u001B[0m_dtype_to_na_value\u001B[0m\u001B[0;34m(\u001B[0m\u001B[0mempty_dtype\u001B[0m\u001B[0;34m,\u001B[0m \u001B[0mhas_none_blocks\u001B[0m\u001B[0;34m)\u001B[0m\u001B[0;34m\u001B[0m\u001B[0;34m\u001B[0m\u001B[0m\n\u001B[1;32m    549\u001B[0m \u001B[0;34m\u001B[0m\u001B[0m\n\u001B[0;32m--> 550\u001B[0;31m     to_concat = [\n\u001B[0m\u001B[1;32m    551\u001B[0m         \u001B[0mju\u001B[0m\u001B[0;34m.\u001B[0m\u001B[0mget_reindexed_values\u001B[0m\u001B[0;34m(\u001B[0m\u001B[0mempty_dtype\u001B[0m\u001B[0;34m=\u001B[0m\u001B[0mempty_dtype\u001B[0m\u001B[0;34m,\u001B[0m \u001B[0mupcasted_na\u001B[0m\u001B[0;34m=\u001B[0m\u001B[0mupcasted_na\u001B[0m\u001B[0;34m)\u001B[0m\u001B[0;34m\u001B[0m\u001B[0;34m\u001B[0m\u001B[0m\n\u001B[1;32m    552\u001B[0m         \u001B[0;32mfor\u001B[0m \u001B[0mju\u001B[0m \u001B[0;32min\u001B[0m \u001B[0mjoin_units\u001B[0m\u001B[0;34m\u001B[0m\u001B[0;34m\u001B[0m\u001B[0m\n",
      "\u001B[0;32m~/opt/anaconda3/lib/python3.9/site-packages/pandas/core/internals/concat.py\u001B[0m in \u001B[0;36m<listcomp>\u001B[0;34m(.0)\u001B[0m\n\u001B[1;32m    549\u001B[0m \u001B[0;34m\u001B[0m\u001B[0m\n\u001B[1;32m    550\u001B[0m     to_concat = [\n\u001B[0;32m--> 551\u001B[0;31m         \u001B[0mju\u001B[0m\u001B[0;34m.\u001B[0m\u001B[0mget_reindexed_values\u001B[0m\u001B[0;34m(\u001B[0m\u001B[0mempty_dtype\u001B[0m\u001B[0;34m=\u001B[0m\u001B[0mempty_dtype\u001B[0m\u001B[0;34m,\u001B[0m \u001B[0mupcasted_na\u001B[0m\u001B[0;34m=\u001B[0m\u001B[0mupcasted_na\u001B[0m\u001B[0;34m)\u001B[0m\u001B[0;34m\u001B[0m\u001B[0;34m\u001B[0m\u001B[0m\n\u001B[0m\u001B[1;32m    552\u001B[0m         \u001B[0;32mfor\u001B[0m \u001B[0mju\u001B[0m \u001B[0;32min\u001B[0m \u001B[0mjoin_units\u001B[0m\u001B[0;34m\u001B[0m\u001B[0;34m\u001B[0m\u001B[0m\n\u001B[1;32m    553\u001B[0m     ]\n",
      "\u001B[0;32m~/opt/anaconda3/lib/python3.9/site-packages/pandas/core/internals/concat.py\u001B[0m in \u001B[0;36mget_reindexed_values\u001B[0;34m(self, empty_dtype, upcasted_na)\u001B[0m\n\u001B[1;32m    528\u001B[0m         \u001B[0;32melse\u001B[0m\u001B[0;34m:\u001B[0m\u001B[0;34m\u001B[0m\u001B[0;34m\u001B[0m\u001B[0m\n\u001B[1;32m    529\u001B[0m             \u001B[0;32mfor\u001B[0m \u001B[0max\u001B[0m\u001B[0;34m,\u001B[0m \u001B[0mindexer\u001B[0m \u001B[0;32min\u001B[0m \u001B[0mself\u001B[0m\u001B[0;34m.\u001B[0m\u001B[0mindexers\u001B[0m\u001B[0;34m.\u001B[0m\u001B[0mitems\u001B[0m\u001B[0;34m(\u001B[0m\u001B[0;34m)\u001B[0m\u001B[0;34m:\u001B[0m\u001B[0;34m\u001B[0m\u001B[0;34m\u001B[0m\u001B[0m\n\u001B[0;32m--> 530\u001B[0;31m                 \u001B[0mvalues\u001B[0m \u001B[0;34m=\u001B[0m \u001B[0malgos\u001B[0m\u001B[0;34m.\u001B[0m\u001B[0mtake_nd\u001B[0m\u001B[0;34m(\u001B[0m\u001B[0mvalues\u001B[0m\u001B[0;34m,\u001B[0m \u001B[0mindexer\u001B[0m\u001B[0;34m,\u001B[0m \u001B[0maxis\u001B[0m\u001B[0;34m=\u001B[0m\u001B[0max\u001B[0m\u001B[0;34m)\u001B[0m\u001B[0;34m\u001B[0m\u001B[0;34m\u001B[0m\u001B[0m\n\u001B[0m\u001B[1;32m    531\u001B[0m \u001B[0;34m\u001B[0m\u001B[0m\n\u001B[1;32m    532\u001B[0m         \u001B[0;32mreturn\u001B[0m \u001B[0mvalues\u001B[0m\u001B[0;34m\u001B[0m\u001B[0;34m\u001B[0m\u001B[0m\n",
      "\u001B[0;32m~/opt/anaconda3/lib/python3.9/site-packages/pandas/core/array_algos/take.py\u001B[0m in \u001B[0;36mtake_nd\u001B[0;34m(arr, indexer, axis, fill_value, allow_fill)\u001B[0m\n\u001B[1;32m    115\u001B[0m \u001B[0;34m\u001B[0m\u001B[0m\n\u001B[1;32m    116\u001B[0m     \u001B[0marr\u001B[0m \u001B[0;34m=\u001B[0m \u001B[0mnp\u001B[0m\u001B[0;34m.\u001B[0m\u001B[0masarray\u001B[0m\u001B[0;34m(\u001B[0m\u001B[0marr\u001B[0m\u001B[0;34m)\u001B[0m\u001B[0;34m\u001B[0m\u001B[0;34m\u001B[0m\u001B[0m\n\u001B[0;32m--> 117\u001B[0;31m     \u001B[0;32mreturn\u001B[0m \u001B[0m_take_nd_ndarray\u001B[0m\u001B[0;34m(\u001B[0m\u001B[0marr\u001B[0m\u001B[0;34m,\u001B[0m \u001B[0mindexer\u001B[0m\u001B[0;34m,\u001B[0m \u001B[0maxis\u001B[0m\u001B[0;34m,\u001B[0m \u001B[0mfill_value\u001B[0m\u001B[0;34m,\u001B[0m \u001B[0mallow_fill\u001B[0m\u001B[0;34m)\u001B[0m\u001B[0;34m\u001B[0m\u001B[0;34m\u001B[0m\u001B[0m\n\u001B[0m\u001B[1;32m    118\u001B[0m \u001B[0;34m\u001B[0m\u001B[0m\n\u001B[1;32m    119\u001B[0m \u001B[0;34m\u001B[0m\u001B[0m\n",
      "\u001B[0;32m~/opt/anaconda3/lib/python3.9/site-packages/pandas/core/array_algos/take.py\u001B[0m in \u001B[0;36m_take_nd_ndarray\u001B[0;34m(arr, indexer, axis, fill_value, allow_fill)\u001B[0m\n\u001B[1;32m    161\u001B[0m         \u001B[0marr\u001B[0m\u001B[0;34m.\u001B[0m\u001B[0mndim\u001B[0m\u001B[0;34m,\u001B[0m \u001B[0marr\u001B[0m\u001B[0;34m.\u001B[0m\u001B[0mdtype\u001B[0m\u001B[0;34m,\u001B[0m \u001B[0mout\u001B[0m\u001B[0;34m.\u001B[0m\u001B[0mdtype\u001B[0m\u001B[0;34m,\u001B[0m \u001B[0maxis\u001B[0m\u001B[0;34m=\u001B[0m\u001B[0maxis\u001B[0m\u001B[0;34m,\u001B[0m \u001B[0mmask_info\u001B[0m\u001B[0;34m=\u001B[0m\u001B[0mmask_info\u001B[0m\u001B[0;34m\u001B[0m\u001B[0;34m\u001B[0m\u001B[0m\n\u001B[1;32m    162\u001B[0m     )\n\u001B[0;32m--> 163\u001B[0;31m     \u001B[0mfunc\u001B[0m\u001B[0;34m(\u001B[0m\u001B[0marr\u001B[0m\u001B[0;34m,\u001B[0m \u001B[0mindexer\u001B[0m\u001B[0;34m,\u001B[0m \u001B[0mout\u001B[0m\u001B[0;34m,\u001B[0m \u001B[0mfill_value\u001B[0m\u001B[0;34m)\u001B[0m\u001B[0;34m\u001B[0m\u001B[0;34m\u001B[0m\u001B[0m\n\u001B[0m\u001B[1;32m    164\u001B[0m \u001B[0;34m\u001B[0m\u001B[0m\n\u001B[1;32m    165\u001B[0m     \u001B[0;32mif\u001B[0m \u001B[0mflip_order\u001B[0m\u001B[0;34m:\u001B[0m\u001B[0;34m\u001B[0m\u001B[0;34m\u001B[0m\u001B[0m\n",
      "\u001B[0;31mKeyboardInterrupt\u001B[0m: "
     ]
    }
   ],
   "source": [
    "genres_tracks_play_count = pd.merge(genres_tracks, triplets)"
   ],
   "metadata": {
    "collapsed": false
   }
  },
  {
   "cell_type": "code",
   "execution_count": null,
   "outputs": [],
   "source": [
    "genres_tracks_play_count.head()"
   ],
   "metadata": {
    "collapsed": false
   }
  }
 ],
 "metadata": {
  "kernelspec": {
   "display_name": "Python 3",
   "language": "python",
   "name": "python3"
  },
  "language_info": {
   "codemirror_mode": {
    "name": "ipython",
    "version": 2
   },
   "file_extension": ".py",
   "mimetype": "text/x-python",
   "name": "python",
   "nbconvert_exporter": "python",
   "pygments_lexer": "ipython2",
   "version": "2.7.6"
  }
 },
 "nbformat": 4,
 "nbformat_minor": 0
}
