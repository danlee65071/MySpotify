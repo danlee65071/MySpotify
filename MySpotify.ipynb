{
 "cells": [
  {
   "cell_type": "markdown",
   "source": [
    "# Import libraries"
   ],
   "metadata": {
    "collapsed": false
   }
  },
  {
   "cell_type": "code",
   "execution_count": 22,
   "outputs": [],
   "source": [
    "import numpy as np\n",
    "import pandas as pd\n",
    "\n",
    "from tqdm.auto import tqdm\n",
    "\n",
    "import os"
   ],
   "metadata": {
    "collapsed": false
   }
  },
  {
   "cell_type": "markdown",
   "source": [
    "# Global variables"
   ],
   "metadata": {
    "collapsed": false
   }
  },
  {
   "cell_type": "code",
   "execution_count": 58,
   "outputs": [],
   "source": [
    "DATA_DIR = 'data'\n",
    "\n",
    "UNIQUE_TRACKS_DATA_FILE_NAME = 'p02_unique_tracks.txt'\n",
    "UNIQUE_TRACKS_DATA_FILE_PATH = os.path.join(DATA_DIR,\n",
    "                                            UNIQUE_TRACKS_DATA_FILE_NAME)\n",
    "\n",
    "\n",
    "TRIPLETS_DATA_FILE_NAME = 'train_triplets.txt'\n",
    "TRIPLETS_DATA_FILE_PATH = os.path.join(DATA_DIR,\n",
    "                                       TRIPLETS_DATA_FILE_NAME)\n",
    "\n",
    "\n",
    "MSD_TAGTRAUM_FILE_NAME = 'p02_msd_tagtraum_cd2.cls'\n",
    "MSD_TAGTRAUM_FILE_PATH = os.path.join(DATA_DIR,\n",
    "                                      MSD_TAGTRAUM_FILE_NAME)"
   ],
   "metadata": {
    "collapsed": false
   }
  },
  {
   "cell_type": "markdown",
   "source": [
    "# Top-250 tracks"
   ],
   "metadata": {
    "collapsed": false
   }
  },
  {
   "cell_type": "markdown",
   "source": [
    "It should return a dataframe with the following fields: index number, artist name, track title, play count. The table should be sorted by\n",
    "the play count descendingly."
   ],
   "metadata": {
    "collapsed": false
   }
  },
  {
   "cell_type": "code",
   "execution_count": 10,
   "outputs": [
    {
     "data": {
      "text/plain": "             track_id             song_id            artist              title\n0  TRMMMYQ128F932D901  SOQMMHC12AB0180CB8  Faster Pussy cat       Silent Night\n1  TRMMMKD128F425225D  SOVFVAK12A8C1350D9  Karkkiautomaatti        Tanssi vaan\n2  TRMMMRX128F93187D9  SOGTUKN12AB017F4F1    Hudson Mohawke  No One Could Ever\n3  TRMMMCH128F425532C  SOBNYVR12A8C13558C       Yerba Brava      Si Vos Querés\n4  TRMMMWA128F426B589  SOHSBXH12A8C13B0DF        Der Mystic   Tangle Of Aspens",
      "text/html": "<div>\n<style scoped>\n    .dataframe tbody tr th:only-of-type {\n        vertical-align: middle;\n    }\n\n    .dataframe tbody tr th {\n        vertical-align: top;\n    }\n\n    .dataframe thead th {\n        text-align: right;\n    }\n</style>\n<table border=\"1\" class=\"dataframe\">\n  <thead>\n    <tr style=\"text-align: right;\">\n      <th></th>\n      <th>track_id</th>\n      <th>song_id</th>\n      <th>artist</th>\n      <th>title</th>\n    </tr>\n  </thead>\n  <tbody>\n    <tr>\n      <th>0</th>\n      <td>TRMMMYQ128F932D901</td>\n      <td>SOQMMHC12AB0180CB8</td>\n      <td>Faster Pussy cat</td>\n      <td>Silent Night</td>\n    </tr>\n    <tr>\n      <th>1</th>\n      <td>TRMMMKD128F425225D</td>\n      <td>SOVFVAK12A8C1350D9</td>\n      <td>Karkkiautomaatti</td>\n      <td>Tanssi vaan</td>\n    </tr>\n    <tr>\n      <th>2</th>\n      <td>TRMMMRX128F93187D9</td>\n      <td>SOGTUKN12AB017F4F1</td>\n      <td>Hudson Mohawke</td>\n      <td>No One Could Ever</td>\n    </tr>\n    <tr>\n      <th>3</th>\n      <td>TRMMMCH128F425532C</td>\n      <td>SOBNYVR12A8C13558C</td>\n      <td>Yerba Brava</td>\n      <td>Si Vos Querés</td>\n    </tr>\n    <tr>\n      <th>4</th>\n      <td>TRMMMWA128F426B589</td>\n      <td>SOHSBXH12A8C13B0DF</td>\n      <td>Der Mystic</td>\n      <td>Tangle Of Aspens</td>\n    </tr>\n  </tbody>\n</table>\n</div>"
     },
     "execution_count": 10,
     "metadata": {},
     "output_type": "execute_result"
    }
   ],
   "source": [
    "unique_tracks = pd.read_csv(UNIQUE_TRACKS_DATA_FILE_PATH,\n",
    "                            sep='<SEP>',\n",
    "                            names=('track_id', 'song_id', 'artist', 'title'),\n",
    "                            engine='python')\n",
    "unique_tracks.head()"
   ],
   "metadata": {
    "collapsed": false
   }
  },
  {
   "cell_type": "code",
   "execution_count": 17,
   "outputs": [
    {
     "data": {
      "text/plain": "(1000000, 4)"
     },
     "execution_count": 17,
     "metadata": {},
     "output_type": "execute_result"
    }
   ],
   "source": [
    "unique_tracks.shape"
   ],
   "metadata": {
    "collapsed": false
   }
  },
  {
   "cell_type": "code",
   "execution_count": 12,
   "outputs": [
    {
     "data": {
      "text/plain": "                                    user_id             song_id  play_count\n0  b80344d063b5ccb3212f76538f3d9e43d87dca9e  SOAKIMP12A8C130995           1\n1  b80344d063b5ccb3212f76538f3d9e43d87dca9e  SOAPDEY12A81C210A9           1\n2  b80344d063b5ccb3212f76538f3d9e43d87dca9e  SOBBMDR12A8C13253B           2\n3  b80344d063b5ccb3212f76538f3d9e43d87dca9e  SOBFNSP12AF72A0E22           1\n4  b80344d063b5ccb3212f76538f3d9e43d87dca9e  SOBFOVM12A58A7D494           1",
      "text/html": "<div>\n<style scoped>\n    .dataframe tbody tr th:only-of-type {\n        vertical-align: middle;\n    }\n\n    .dataframe tbody tr th {\n        vertical-align: top;\n    }\n\n    .dataframe thead th {\n        text-align: right;\n    }\n</style>\n<table border=\"1\" class=\"dataframe\">\n  <thead>\n    <tr style=\"text-align: right;\">\n      <th></th>\n      <th>user_id</th>\n      <th>song_id</th>\n      <th>play_count</th>\n    </tr>\n  </thead>\n  <tbody>\n    <tr>\n      <th>0</th>\n      <td>b80344d063b5ccb3212f76538f3d9e43d87dca9e</td>\n      <td>SOAKIMP12A8C130995</td>\n      <td>1</td>\n    </tr>\n    <tr>\n      <th>1</th>\n      <td>b80344d063b5ccb3212f76538f3d9e43d87dca9e</td>\n      <td>SOAPDEY12A81C210A9</td>\n      <td>1</td>\n    </tr>\n    <tr>\n      <th>2</th>\n      <td>b80344d063b5ccb3212f76538f3d9e43d87dca9e</td>\n      <td>SOBBMDR12A8C13253B</td>\n      <td>2</td>\n    </tr>\n    <tr>\n      <th>3</th>\n      <td>b80344d063b5ccb3212f76538f3d9e43d87dca9e</td>\n      <td>SOBFNSP12AF72A0E22</td>\n      <td>1</td>\n    </tr>\n    <tr>\n      <th>4</th>\n      <td>b80344d063b5ccb3212f76538f3d9e43d87dca9e</td>\n      <td>SOBFOVM12A58A7D494</td>\n      <td>1</td>\n    </tr>\n  </tbody>\n</table>\n</div>"
     },
     "execution_count": 12,
     "metadata": {},
     "output_type": "execute_result"
    }
   ],
   "source": [
    "triplets = pd.read_csv(TRIPLETS_DATA_FILE_PATH,\n",
    "                       sep='\\t',\n",
    "                       names=('user_id', 'song_id', 'play_count'),\n",
    "                       engine='python')\n",
    "triplets.head()"
   ],
   "metadata": {
    "collapsed": false
   }
  },
  {
   "cell_type": "code",
   "execution_count": 18,
   "outputs": [
    {
     "data": {
      "text/plain": "(48373586, 3)"
     },
     "execution_count": 18,
     "metadata": {},
     "output_type": "execute_result"
    }
   ],
   "source": [
    "triplets.shape"
   ],
   "metadata": {
    "collapsed": false
   }
  },
  {
   "cell_type": "code",
   "execution_count": 43,
   "outputs": [],
   "source": [
    "top_250_tracks = triplets.sort_values(by=['play_count'], ascending=False).head(250)"
   ],
   "metadata": {
    "collapsed": false
   }
  },
  {
   "cell_type": "code",
   "execution_count": 44,
   "outputs": [
    {
     "data": {
      "text/plain": "                                           user_id             song_id  \\\n31847879  093cb74eb3c517c5179ae24caf0ebec51b24d2a2  SOAOSDF12A58A779F1   \n18651017  c11dea7d1f4d227b98c5f2a79561bf76884fcf10  SOZTEZR12A8C14204B   \n12857055  d8e6fa08d73821f305b9a3af1cf1e0a704473d82  SOBONKR12A58A7A7E0   \n48274295  1854daf178674bbac9a8ed3d481f95b76676b414  SOVLAWN12A81C234AB   \n30142955  69807196f964e5b063af898fd1cb098fab2e6a1f  SOVQQJO12AB0182328   \n\n          play_count  \n31847879        9667  \n18651017        3534  \n12857055        3532  \n48274295        2948  \n30142955        2381  ",
      "text/html": "<div>\n<style scoped>\n    .dataframe tbody tr th:only-of-type {\n        vertical-align: middle;\n    }\n\n    .dataframe tbody tr th {\n        vertical-align: top;\n    }\n\n    .dataframe thead th {\n        text-align: right;\n    }\n</style>\n<table border=\"1\" class=\"dataframe\">\n  <thead>\n    <tr style=\"text-align: right;\">\n      <th></th>\n      <th>user_id</th>\n      <th>song_id</th>\n      <th>play_count</th>\n    </tr>\n  </thead>\n  <tbody>\n    <tr>\n      <th>31847879</th>\n      <td>093cb74eb3c517c5179ae24caf0ebec51b24d2a2</td>\n      <td>SOAOSDF12A58A779F1</td>\n      <td>9667</td>\n    </tr>\n    <tr>\n      <th>18651017</th>\n      <td>c11dea7d1f4d227b98c5f2a79561bf76884fcf10</td>\n      <td>SOZTEZR12A8C14204B</td>\n      <td>3534</td>\n    </tr>\n    <tr>\n      <th>12857055</th>\n      <td>d8e6fa08d73821f305b9a3af1cf1e0a704473d82</td>\n      <td>SOBONKR12A58A7A7E0</td>\n      <td>3532</td>\n    </tr>\n    <tr>\n      <th>48274295</th>\n      <td>1854daf178674bbac9a8ed3d481f95b76676b414</td>\n      <td>SOVLAWN12A81C234AB</td>\n      <td>2948</td>\n    </tr>\n    <tr>\n      <th>30142955</th>\n      <td>69807196f964e5b063af898fd1cb098fab2e6a1f</td>\n      <td>SOVQQJO12AB0182328</td>\n      <td>2381</td>\n    </tr>\n  </tbody>\n</table>\n</div>"
     },
     "execution_count": 44,
     "metadata": {},
     "output_type": "execute_result"
    }
   ],
   "source": [
    "top_250_tracks.head()"
   ],
   "metadata": {
    "collapsed": false
   }
  },
  {
   "cell_type": "code",
   "execution_count": 45,
   "outputs": [
    {
     "data": {
      "text/plain": "  0%|          | 0/250 [00:00<?, ?it/s]",
      "application/vnd.jupyter.widget-view+json": {
       "version_major": 2,
       "version_minor": 0,
       "model_id": "1220917ea35049188310fba1218d2b70"
      }
     },
     "metadata": {},
     "output_type": "display_data"
    }
   ],
   "source": [
    "artists = [unique_tracks[unique_tracks['song_id'] == track[1]]['artist'].values[0]\n",
    "           for track in tqdm(top_250_tracks.values)]"
   ],
   "metadata": {
    "collapsed": false
   }
  },
  {
   "cell_type": "code",
   "execution_count": 46,
   "outputs": [
    {
     "data": {
      "text/plain": "['Ry Cooder', '2Mex', 'Dwight Yoakam', 'Paul Cardall', 'Nouvelle Vague']"
     },
     "execution_count": 46,
     "metadata": {},
     "output_type": "execute_result"
    }
   ],
   "source": [
    "artists[:5]"
   ],
   "metadata": {
    "collapsed": false
   }
  },
  {
   "cell_type": "code",
   "execution_count": 47,
   "outputs": [
    {
     "data": {
      "text/plain": "  0%|          | 0/250 [00:00<?, ?it/s]",
      "application/vnd.jupyter.widget-view+json": {
       "version_major": 2,
       "version_minor": 0,
       "model_id": "cb2e7b04ba3246e7b703e5bc549d9c23"
      }
     },
     "metadata": {},
     "output_type": "display_data"
    }
   ],
   "source": [
    "titles = [unique_tracks[unique_tracks['song_id'] == track[1]]['title'].values[0]\n",
    "           for track in tqdm(top_250_tracks.values)]"
   ],
   "metadata": {
    "collapsed": false
   }
  },
  {
   "cell_type": "code",
   "execution_count": 48,
   "outputs": [
    {
     "data": {
      "text/plain": "['Corrido de Boxeo',\n 'Making Money Off God feat. Bus Driver',\n \"You're The One\",\n 'Sweet Escape',\n 'Ca Plane Pour Moi']"
     },
     "execution_count": 48,
     "metadata": {},
     "output_type": "execute_result"
    }
   ],
   "source": [
    "titles[:5]"
   ],
   "metadata": {
    "collapsed": false
   }
  },
  {
   "cell_type": "code",
   "execution_count": 49,
   "outputs": [],
   "source": [
    "top_250_tracks['artist'] = artists\n",
    "top_250_tracks['title'] = titles\n",
    "top_250_tracks['id'] = [id for id in range(top_250_tracks.shape[0])]"
   ],
   "metadata": {
    "collapsed": false
   }
  },
  {
   "cell_type": "code",
   "execution_count": 50,
   "outputs": [
    {
     "data": {
      "text/plain": "                                           user_id             song_id  \\\n31847879  093cb74eb3c517c5179ae24caf0ebec51b24d2a2  SOAOSDF12A58A779F1   \n18651017  c11dea7d1f4d227b98c5f2a79561bf76884fcf10  SOZTEZR12A8C14204B   \n12857055  d8e6fa08d73821f305b9a3af1cf1e0a704473d82  SOBONKR12A58A7A7E0   \n48274295  1854daf178674bbac9a8ed3d481f95b76676b414  SOVLAWN12A81C234AB   \n30142955  69807196f964e5b063af898fd1cb098fab2e6a1f  SOVQQJO12AB0182328   \n\n          play_count          artist                                  title  \\\n31847879        9667       Ry Cooder                       Corrido de Boxeo   \n18651017        3534            2Mex  Making Money Off God feat. Bus Driver   \n12857055        3532   Dwight Yoakam                         You're The One   \n48274295        2948    Paul Cardall                           Sweet Escape   \n30142955        2381  Nouvelle Vague                      Ca Plane Pour Moi   \n\n          id  \n31847879   0  \n18651017   1  \n12857055   2  \n48274295   3  \n30142955   4  ",
      "text/html": "<div>\n<style scoped>\n    .dataframe tbody tr th:only-of-type {\n        vertical-align: middle;\n    }\n\n    .dataframe tbody tr th {\n        vertical-align: top;\n    }\n\n    .dataframe thead th {\n        text-align: right;\n    }\n</style>\n<table border=\"1\" class=\"dataframe\">\n  <thead>\n    <tr style=\"text-align: right;\">\n      <th></th>\n      <th>user_id</th>\n      <th>song_id</th>\n      <th>play_count</th>\n      <th>artist</th>\n      <th>title</th>\n      <th>id</th>\n    </tr>\n  </thead>\n  <tbody>\n    <tr>\n      <th>31847879</th>\n      <td>093cb74eb3c517c5179ae24caf0ebec51b24d2a2</td>\n      <td>SOAOSDF12A58A779F1</td>\n      <td>9667</td>\n      <td>Ry Cooder</td>\n      <td>Corrido de Boxeo</td>\n      <td>0</td>\n    </tr>\n    <tr>\n      <th>18651017</th>\n      <td>c11dea7d1f4d227b98c5f2a79561bf76884fcf10</td>\n      <td>SOZTEZR12A8C14204B</td>\n      <td>3534</td>\n      <td>2Mex</td>\n      <td>Making Money Off God feat. Bus Driver</td>\n      <td>1</td>\n    </tr>\n    <tr>\n      <th>12857055</th>\n      <td>d8e6fa08d73821f305b9a3af1cf1e0a704473d82</td>\n      <td>SOBONKR12A58A7A7E0</td>\n      <td>3532</td>\n      <td>Dwight Yoakam</td>\n      <td>You're The One</td>\n      <td>2</td>\n    </tr>\n    <tr>\n      <th>48274295</th>\n      <td>1854daf178674bbac9a8ed3d481f95b76676b414</td>\n      <td>SOVLAWN12A81C234AB</td>\n      <td>2948</td>\n      <td>Paul Cardall</td>\n      <td>Sweet Escape</td>\n      <td>3</td>\n    </tr>\n    <tr>\n      <th>30142955</th>\n      <td>69807196f964e5b063af898fd1cb098fab2e6a1f</td>\n      <td>SOVQQJO12AB0182328</td>\n      <td>2381</td>\n      <td>Nouvelle Vague</td>\n      <td>Ca Plane Pour Moi</td>\n      <td>4</td>\n    </tr>\n  </tbody>\n</table>\n</div>"
     },
     "execution_count": 50,
     "metadata": {},
     "output_type": "execute_result"
    }
   ],
   "source": [
    "top_250_tracks.head()"
   ],
   "metadata": {
    "collapsed": false
   }
  },
  {
   "cell_type": "code",
   "execution_count": 51,
   "outputs": [],
   "source": [
    "top_250_tracks = top_250_tracks.drop(['user_id', 'song_id'], axis=1)"
   ],
   "metadata": {
    "collapsed": false
   }
  },
  {
   "cell_type": "code",
   "execution_count": 52,
   "outputs": [],
   "source": [
    "top_250_tracks = top_250_tracks.reset_index(drop=True)"
   ],
   "metadata": {
    "collapsed": false
   }
  },
  {
   "cell_type": "code",
   "execution_count": 53,
   "outputs": [
    {
     "data": {
      "text/plain": "   play_count          artist                                  title  id\n0        9667       Ry Cooder                       Corrido de Boxeo   0\n1        3534            2Mex  Making Money Off God feat. Bus Driver   1\n2        3532   Dwight Yoakam                         You're The One   2\n3        2948    Paul Cardall                           Sweet Escape   3\n4        2381  Nouvelle Vague                      Ca Plane Pour Moi   4",
      "text/html": "<div>\n<style scoped>\n    .dataframe tbody tr th:only-of-type {\n        vertical-align: middle;\n    }\n\n    .dataframe tbody tr th {\n        vertical-align: top;\n    }\n\n    .dataframe thead th {\n        text-align: right;\n    }\n</style>\n<table border=\"1\" class=\"dataframe\">\n  <thead>\n    <tr style=\"text-align: right;\">\n      <th></th>\n      <th>play_count</th>\n      <th>artist</th>\n      <th>title</th>\n      <th>id</th>\n    </tr>\n  </thead>\n  <tbody>\n    <tr>\n      <th>0</th>\n      <td>9667</td>\n      <td>Ry Cooder</td>\n      <td>Corrido de Boxeo</td>\n      <td>0</td>\n    </tr>\n    <tr>\n      <th>1</th>\n      <td>3534</td>\n      <td>2Mex</td>\n      <td>Making Money Off God feat. Bus Driver</td>\n      <td>1</td>\n    </tr>\n    <tr>\n      <th>2</th>\n      <td>3532</td>\n      <td>Dwight Yoakam</td>\n      <td>You're The One</td>\n      <td>2</td>\n    </tr>\n    <tr>\n      <th>3</th>\n      <td>2948</td>\n      <td>Paul Cardall</td>\n      <td>Sweet Escape</td>\n      <td>3</td>\n    </tr>\n    <tr>\n      <th>4</th>\n      <td>2381</td>\n      <td>Nouvelle Vague</td>\n      <td>Ca Plane Pour Moi</td>\n      <td>4</td>\n    </tr>\n  </tbody>\n</table>\n</div>"
     },
     "execution_count": 53,
     "metadata": {},
     "output_type": "execute_result"
    }
   ],
   "source": [
    "top_250_tracks.head()"
   ],
   "metadata": {
    "collapsed": false
   }
  },
  {
   "cell_type": "code",
   "execution_count": 55,
   "outputs": [],
   "source": [
    "cols_order = ['id', 'artist', 'title', 'play_count']\n",
    "top_250_tracks = top_250_tracks[cols_order]"
   ],
   "metadata": {
    "collapsed": false
   }
  },
  {
   "cell_type": "code",
   "execution_count": 56,
   "outputs": [
    {
     "data": {
      "text/plain": "   id          artist                                  title  play_count\n0   0       Ry Cooder                       Corrido de Boxeo        9667\n1   1            2Mex  Making Money Off God feat. Bus Driver        3534\n2   2   Dwight Yoakam                         You're The One        3532\n3   3    Paul Cardall                           Sweet Escape        2948\n4   4  Nouvelle Vague                      Ca Plane Pour Moi        2381",
      "text/html": "<div>\n<style scoped>\n    .dataframe tbody tr th:only-of-type {\n        vertical-align: middle;\n    }\n\n    .dataframe tbody tr th {\n        vertical-align: top;\n    }\n\n    .dataframe thead th {\n        text-align: right;\n    }\n</style>\n<table border=\"1\" class=\"dataframe\">\n  <thead>\n    <tr style=\"text-align: right;\">\n      <th></th>\n      <th>id</th>\n      <th>artist</th>\n      <th>title</th>\n      <th>play_count</th>\n    </tr>\n  </thead>\n  <tbody>\n    <tr>\n      <th>0</th>\n      <td>0</td>\n      <td>Ry Cooder</td>\n      <td>Corrido de Boxeo</td>\n      <td>9667</td>\n    </tr>\n    <tr>\n      <th>1</th>\n      <td>1</td>\n      <td>2Mex</td>\n      <td>Making Money Off God feat. Bus Driver</td>\n      <td>3534</td>\n    </tr>\n    <tr>\n      <th>2</th>\n      <td>2</td>\n      <td>Dwight Yoakam</td>\n      <td>You're The One</td>\n      <td>3532</td>\n    </tr>\n    <tr>\n      <th>3</th>\n      <td>3</td>\n      <td>Paul Cardall</td>\n      <td>Sweet Escape</td>\n      <td>2948</td>\n    </tr>\n    <tr>\n      <th>4</th>\n      <td>4</td>\n      <td>Nouvelle Vague</td>\n      <td>Ca Plane Pour Moi</td>\n      <td>2381</td>\n    </tr>\n  </tbody>\n</table>\n</div>"
     },
     "execution_count": 56,
     "metadata": {},
     "output_type": "execute_result"
    }
   ],
   "source": [
    "top_250_tracks.head()"
   ],
   "metadata": {
    "collapsed": false
   }
  },
  {
   "cell_type": "code",
   "execution_count": 57,
   "outputs": [],
   "source": [
    "top_250_tracks.to_csv('top_250_tracks.csv', index=False)"
   ],
   "metadata": {
    "collapsed": false
   }
  },
  {
   "cell_type": "markdown",
   "source": [
    "# Top-100 tracks by genre"
   ],
   "metadata": {
    "collapsed": false
   }
  },
  {
   "cell_type": "markdown",
   "source": [
    "It should return on a given genre a dataframe with the following fields: index number, artist name, track title, play count. The table should be sorted by the play count descendingly. You should only use the major genre to perform the subtask."
   ],
   "metadata": {
    "collapsed": false
   }
  },
  {
   "cell_type": "code",
   "execution_count": 59,
   "outputs": [],
   "source": [
    "genres = pd.read_csv(MSD_TAGTRAUM_FILE_PATH,\n",
    "                     sep='\\t',\n",
    "                     names=('trackId', 'majority-genre', 'minority-genre'),\n",
    "                     comment='#')"
   ],
   "metadata": {
    "collapsed": false
   }
  },
  {
   "cell_type": "code",
   "execution_count": 60,
   "outputs": [
    {
     "data": {
      "text/plain": "              trackId majority-genre minority-genre\n0  TRAAAAK128F9318786           Rock            NaN\n1  TRAAAAW128F429D538            Rap            NaN\n2  TRAAABD128F429CF47           Rock            RnB\n3  TRAAADJ128F4287B47           Rock            NaN\n4  TRAAADZ128F9348C2E          Latin            NaN",
      "text/html": "<div>\n<style scoped>\n    .dataframe tbody tr th:only-of-type {\n        vertical-align: middle;\n    }\n\n    .dataframe tbody tr th {\n        vertical-align: top;\n    }\n\n    .dataframe thead th {\n        text-align: right;\n    }\n</style>\n<table border=\"1\" class=\"dataframe\">\n  <thead>\n    <tr style=\"text-align: right;\">\n      <th></th>\n      <th>trackId</th>\n      <th>majority-genre</th>\n      <th>minority-genre</th>\n    </tr>\n  </thead>\n  <tbody>\n    <tr>\n      <th>0</th>\n      <td>TRAAAAK128F9318786</td>\n      <td>Rock</td>\n      <td>NaN</td>\n    </tr>\n    <tr>\n      <th>1</th>\n      <td>TRAAAAW128F429D538</td>\n      <td>Rap</td>\n      <td>NaN</td>\n    </tr>\n    <tr>\n      <th>2</th>\n      <td>TRAAABD128F429CF47</td>\n      <td>Rock</td>\n      <td>RnB</td>\n    </tr>\n    <tr>\n      <th>3</th>\n      <td>TRAAADJ128F4287B47</td>\n      <td>Rock</td>\n      <td>NaN</td>\n    </tr>\n    <tr>\n      <th>4</th>\n      <td>TRAAADZ128F9348C2E</td>\n      <td>Latin</td>\n      <td>NaN</td>\n    </tr>\n  </tbody>\n</table>\n</div>"
     },
     "execution_count": 60,
     "metadata": {},
     "output_type": "execute_result"
    }
   ],
   "source": [
    "genres.head()"
   ],
   "metadata": {
    "collapsed": false
   }
  },
  {
   "cell_type": "code",
   "execution_count": null,
   "outputs": [],
   "source": [],
   "metadata": {
    "collapsed": false
   }
  }
 ],
 "metadata": {
  "kernelspec": {
   "display_name": "Python 3",
   "language": "python",
   "name": "python3"
  },
  "language_info": {
   "codemirror_mode": {
    "name": "ipython",
    "version": 2
   },
   "file_extension": ".py",
   "mimetype": "text/x-python",
   "name": "python",
   "nbconvert_exporter": "python",
   "pygments_lexer": "ipython2",
   "version": "2.7.6"
  }
 },
 "nbformat": 4,
 "nbformat_minor": 0
}
